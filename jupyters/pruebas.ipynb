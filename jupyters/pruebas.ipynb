{
 "cells": [
  {
   "cell_type": "code",
   "execution_count": 674,
   "metadata": {},
   "outputs": [],
   "source": [
    "# importa las librerias necesarias \n",
    "import pandas as pd\n",
    "import numpy as np\n",
    "import pyarrow as pa\n",
    "import matplotlib.pyplot as plt\n",
    "import seaborn as sns"
   ]
  },
  {
   "cell_type": "code",
   "execution_count": 675,
   "metadata": {},
   "outputs": [
    {
     "data": {
      "text/html": [
       "<div>\n",
       "<style scoped>\n",
       "    .dataframe tbody tr th:only-of-type {\n",
       "        vertical-align: middle;\n",
       "    }\n",
       "\n",
       "    .dataframe tbody tr th {\n",
       "        vertical-align: top;\n",
       "    }\n",
       "\n",
       "    .dataframe thead th {\n",
       "        text-align: right;\n",
       "    }\n",
       "</style>\n",
       "<table border=\"1\" class=\"dataframe\">\n",
       "  <thead>\n",
       "    <tr style=\"text-align: right;\">\n",
       "      <th></th>\n",
       "      <th>id_reserva</th>\n",
       "      <th>id_cliente</th>\n",
       "      <th>nombre</th>\n",
       "      <th>apellido</th>\n",
       "      <th>mail</th>\n",
       "      <th>competencia</th>\n",
       "      <th>fecha_reserva</th>\n",
       "      <th>inicio_estancia</th>\n",
       "      <th>final_estancia</th>\n",
       "      <th>id_hotel</th>\n",
       "      <th>precio_noche</th>\n",
       "      <th>nombre_hotel</th>\n",
       "      <th>estrellas</th>\n",
       "      <th>ciudad</th>\n",
       "    </tr>\n",
       "  </thead>\n",
       "  <tbody>\n",
       "    <tr>\n",
       "      <th>14054</th>\n",
       "      <td>c20026fd-e333-40a1-88de-c2f2d2589bae</td>\n",
       "      <td>dce2efeb-55b1-4e0b-9bc9-c15bb6f9c65a</td>\n",
       "      <td>Calisto</td>\n",
       "      <td>Baquero</td>\n",
       "      <td>calisto.baquero@example.com</td>\n",
       "      <td>False</td>\n",
       "      <td>2025-02-12</td>\n",
       "      <td>2025-03-01</td>\n",
       "      <td>2025-03-02</td>\n",
       "      <td>43</td>\n",
       "      <td>499.67</td>\n",
       "      <td>Hotel Luz de Madrid</td>\n",
       "      <td>2.0</td>\n",
       "      <td>Madrid</td>\n",
       "    </tr>\n",
       "    <tr>\n",
       "      <th>8956</th>\n",
       "      <td>7ed638c2-add8-4078-8c33-5f17332f3c0d</td>\n",
       "      <td>c2f324b2-7586-4eda-9672-d33f88cfa9f4</td>\n",
       "      <td>Berto</td>\n",
       "      <td>Ibáñez</td>\n",
       "      <td>berto.ibáñez@example.com</td>\n",
       "      <td>False</td>\n",
       "      <td>2025-02-03</td>\n",
       "      <td>2025-03-01</td>\n",
       "      <td>2025-03-02</td>\n",
       "      <td>38</td>\n",
       "      <td>215.43</td>\n",
       "      <td>Hotel Camino del Sol</td>\n",
       "      <td>2.0</td>\n",
       "      <td>Madrid</td>\n",
       "    </tr>\n",
       "    <tr>\n",
       "      <th>9135</th>\n",
       "      <td>77a3824c-3071-4833-b743-6eea95409f8f</td>\n",
       "      <td>029f2987-f884-476b-a605-d548a235e1e4</td>\n",
       "      <td>Pablo</td>\n",
       "      <td>Quesada</td>\n",
       "      <td>pablo.quesada@example.com</td>\n",
       "      <td>False</td>\n",
       "      <td>2025-02-03</td>\n",
       "      <td>2025-03-01</td>\n",
       "      <td>2025-03-02</td>\n",
       "      <td>48</td>\n",
       "      <td>331.66</td>\n",
       "      <td>Hotel Costa Azul</td>\n",
       "      <td>3.0</td>\n",
       "      <td>Madrid</td>\n",
       "    </tr>\n",
       "    <tr>\n",
       "      <th>4748</th>\n",
       "      <td>243f0e60-65cd-414b-bc50-970f7e73e88b</td>\n",
       "      <td>5216f3d9-4b36-446b-8fff-ca1ad4187d3d</td>\n",
       "      <td>Gisela</td>\n",
       "      <td>Codina</td>\n",
       "      <td>gisela.codina@example.com</td>\n",
       "      <td>True</td>\n",
       "      <td></td>\n",
       "      <td>2025-03-01</td>\n",
       "      <td>2025-03-02</td>\n",
       "      <td>181</td>\n",
       "      <td>NaN</td>\n",
       "      <td></td>\n",
       "      <td>NaN</td>\n",
       "      <td></td>\n",
       "    </tr>\n",
       "    <tr>\n",
       "      <th>5938</th>\n",
       "      <td>7ab1df48-9144-44b7-b56f-204393e5b680</td>\n",
       "      <td>2ee9fc8d-7ede-414c-9eb2-dc8c3bdc02ec</td>\n",
       "      <td>Elvira</td>\n",
       "      <td>Fiol</td>\n",
       "      <td>elvira.fiol@example.com</td>\n",
       "      <td>False</td>\n",
       "      <td>2025-02-03</td>\n",
       "      <td>2025-03-01</td>\n",
       "      <td>2025-03-02</td>\n",
       "      <td>13</td>\n",
       "      <td>233.77</td>\n",
       "      <td>Gran Hotel Madrid</td>\n",
       "      <td>1.0</td>\n",
       "      <td>Madrid</td>\n",
       "    </tr>\n",
       "  </tbody>\n",
       "</table>\n",
       "</div>"
      ],
      "text/plain": [
       "                                 id_reserva  \\\n",
       "14054  c20026fd-e333-40a1-88de-c2f2d2589bae   \n",
       "8956   7ed638c2-add8-4078-8c33-5f17332f3c0d   \n",
       "9135   77a3824c-3071-4833-b743-6eea95409f8f   \n",
       "4748   243f0e60-65cd-414b-bc50-970f7e73e88b   \n",
       "5938   7ab1df48-9144-44b7-b56f-204393e5b680   \n",
       "\n",
       "                                 id_cliente   nombre apellido  \\\n",
       "14054  dce2efeb-55b1-4e0b-9bc9-c15bb6f9c65a  Calisto  Baquero   \n",
       "8956   c2f324b2-7586-4eda-9672-d33f88cfa9f4    Berto   Ibáñez   \n",
       "9135   029f2987-f884-476b-a605-d548a235e1e4    Pablo  Quesada   \n",
       "4748   5216f3d9-4b36-446b-8fff-ca1ad4187d3d   Gisela   Codina   \n",
       "5938   2ee9fc8d-7ede-414c-9eb2-dc8c3bdc02ec   Elvira     Fiol   \n",
       "\n",
       "                              mail  competencia fecha_reserva inicio_estancia  \\\n",
       "14054  calisto.baquero@example.com        False    2025-02-12      2025-03-01   \n",
       "8956      berto.ibáñez@example.com        False    2025-02-03      2025-03-01   \n",
       "9135     pablo.quesada@example.com        False    2025-02-03      2025-03-01   \n",
       "4748     gisela.codina@example.com         True                    2025-03-01   \n",
       "5938       elvira.fiol@example.com        False    2025-02-03      2025-03-01   \n",
       "\n",
       "      final_estancia  id_hotel  precio_noche          nombre_hotel  estrellas  \\\n",
       "14054     2025-03-02        43        499.67   Hotel Luz de Madrid        2.0   \n",
       "8956      2025-03-02        38        215.43  Hotel Camino del Sol        2.0   \n",
       "9135      2025-03-02        48        331.66      Hotel Costa Azul        3.0   \n",
       "4748      2025-03-02       181           NaN                              NaN   \n",
       "5938      2025-03-02        13        233.77     Gran Hotel Madrid        1.0   \n",
       "\n",
       "       ciudad  \n",
       "14054  Madrid  \n",
       "8956   Madrid  \n",
       "9135   Madrid  \n",
       "4748           \n",
       "5938   Madrid  "
      ]
     },
     "execution_count": 675,
     "metadata": {},
     "output_type": "execute_result"
    }
   ],
   "source": [
    "# lee el archivo parquet \n",
    "df_raw = pd.read_parquet(\"../data/reservas_hoteles.parquet\")\n",
    "df_raw.sample(5)"
   ]
  },
  {
   "cell_type": "code",
   "execution_count": 676,
   "metadata": {},
   "outputs": [],
   "source": [
    "# realiza una copia del archivo original\n",
    "df = df_raw.copy()"
   ]
  },
  {
   "cell_type": "code",
   "execution_count": 677,
   "metadata": {},
   "outputs": [
    {
     "data": {
      "text/plain": [
       "(15098, 14)"
      ]
     },
     "execution_count": 677,
     "metadata": {},
     "output_type": "execute_result"
    }
   ],
   "source": [
    "# saca la forma del dataframe\n",
    "df.shape"
   ]
  },
  {
   "cell_type": "code",
   "execution_count": 678,
   "metadata": {},
   "outputs": [],
   "source": [
    "# crea una funcion que genera un reporte con informacion de nulos y tipo de dato de cada una de las columnas \n",
    "def info_reporte(dataframe):\n",
    "    df_report = pd.DataFrame()\n",
    "    df_report[\"Numero_nulos\"] = dataframe.isnull().sum()\n",
    "    df_report[\"Porcentaje_nulos\"] = round((dataframe.isnull().sum()/dataframe.shape[0]*100), 2)\n",
    "    df_report[\"Tipo_dato\"] = dataframe.dtypes\n",
    "    return df_report"
   ]
  },
  {
   "cell_type": "code",
   "execution_count": 679,
   "metadata": {},
   "outputs": [
    {
     "data": {
      "text/html": [
       "<div>\n",
       "<style scoped>\n",
       "    .dataframe tbody tr th:only-of-type {\n",
       "        vertical-align: middle;\n",
       "    }\n",
       "\n",
       "    .dataframe tbody tr th {\n",
       "        vertical-align: top;\n",
       "    }\n",
       "\n",
       "    .dataframe thead th {\n",
       "        text-align: right;\n",
       "    }\n",
       "</style>\n",
       "<table border=\"1\" class=\"dataframe\">\n",
       "  <thead>\n",
       "    <tr style=\"text-align: right;\">\n",
       "      <th></th>\n",
       "      <th>Numero_nulos</th>\n",
       "      <th>Porcentaje_nulos</th>\n",
       "      <th>Tipo_dato</th>\n",
       "    </tr>\n",
       "  </thead>\n",
       "  <tbody>\n",
       "    <tr>\n",
       "      <th>id_reserva</th>\n",
       "      <td>0</td>\n",
       "      <td>0.00</td>\n",
       "      <td>object</td>\n",
       "    </tr>\n",
       "    <tr>\n",
       "      <th>id_cliente</th>\n",
       "      <td>0</td>\n",
       "      <td>0.00</td>\n",
       "      <td>object</td>\n",
       "    </tr>\n",
       "    <tr>\n",
       "      <th>nombre</th>\n",
       "      <td>0</td>\n",
       "      <td>0.00</td>\n",
       "      <td>object</td>\n",
       "    </tr>\n",
       "    <tr>\n",
       "      <th>apellido</th>\n",
       "      <td>0</td>\n",
       "      <td>0.00</td>\n",
       "      <td>object</td>\n",
       "    </tr>\n",
       "    <tr>\n",
       "      <th>mail</th>\n",
       "      <td>0</td>\n",
       "      <td>0.00</td>\n",
       "      <td>object</td>\n",
       "    </tr>\n",
       "    <tr>\n",
       "      <th>competencia</th>\n",
       "      <td>0</td>\n",
       "      <td>0.00</td>\n",
       "      <td>bool</td>\n",
       "    </tr>\n",
       "    <tr>\n",
       "      <th>fecha_reserva</th>\n",
       "      <td>0</td>\n",
       "      <td>0.00</td>\n",
       "      <td>object</td>\n",
       "    </tr>\n",
       "    <tr>\n",
       "      <th>inicio_estancia</th>\n",
       "      <td>75</td>\n",
       "      <td>0.50</td>\n",
       "      <td>object</td>\n",
       "    </tr>\n",
       "    <tr>\n",
       "      <th>final_estancia</th>\n",
       "      <td>75</td>\n",
       "      <td>0.50</td>\n",
       "      <td>object</td>\n",
       "    </tr>\n",
       "    <tr>\n",
       "      <th>id_hotel</th>\n",
       "      <td>0</td>\n",
       "      <td>0.00</td>\n",
       "      <td>int64</td>\n",
       "    </tr>\n",
       "    <tr>\n",
       "      <th>precio_noche</th>\n",
       "      <td>5224</td>\n",
       "      <td>34.60</td>\n",
       "      <td>float64</td>\n",
       "    </tr>\n",
       "    <tr>\n",
       "      <th>nombre_hotel</th>\n",
       "      <td>0</td>\n",
       "      <td>0.00</td>\n",
       "      <td>object</td>\n",
       "    </tr>\n",
       "    <tr>\n",
       "      <th>estrellas</th>\n",
       "      <td>5172</td>\n",
       "      <td>34.26</td>\n",
       "      <td>float64</td>\n",
       "    </tr>\n",
       "    <tr>\n",
       "      <th>ciudad</th>\n",
       "      <td>0</td>\n",
       "      <td>0.00</td>\n",
       "      <td>object</td>\n",
       "    </tr>\n",
       "  </tbody>\n",
       "</table>\n",
       "</div>"
      ],
      "text/plain": [
       "                 Numero_nulos  Porcentaje_nulos Tipo_dato\n",
       "id_reserva                  0              0.00    object\n",
       "id_cliente                  0              0.00    object\n",
       "nombre                      0              0.00    object\n",
       "apellido                    0              0.00    object\n",
       "mail                        0              0.00    object\n",
       "competencia                 0              0.00      bool\n",
       "fecha_reserva               0              0.00    object\n",
       "inicio_estancia            75              0.50    object\n",
       "final_estancia             75              0.50    object\n",
       "id_hotel                    0              0.00     int64\n",
       "precio_noche             5224             34.60   float64\n",
       "nombre_hotel                0              0.00    object\n",
       "estrellas                5172             34.26   float64\n",
       "ciudad                      0              0.00    object"
      ]
     },
     "execution_count": 679,
     "metadata": {},
     "output_type": "execute_result"
    }
   ],
   "source": [
    "# llama a la funcion aplicandola al dataframe \n",
    "info_reporte(df)"
   ]
  },
  {
   "cell_type": "code",
   "execution_count": 680,
   "metadata": {},
   "outputs": [
    {
     "data": {
      "text/plain": [
       "array([nan,  1.,  5.,  4.,  3.,  2.])"
      ]
     },
     "execution_count": 680,
     "metadata": {},
     "output_type": "execute_result"
    }
   ],
   "source": [
    "# saca los valores únicos de la columna estrellas\n",
    "df[\"estrellas\"].unique()"
   ]
  },
  {
   "cell_type": "markdown",
   "metadata": {},
   "source": [
    "- Tengo 15098 entradas y contamos con 14 columnas \n",
    "- En cuanto al tipo de dato de las columnas, ya se identifican determinadas columnas cuyo tipo de dato es incorrecto, concretamente las columnas de tipo datetime que están en tipo object. Es decir, fecha_reserva, inicio_estancia y final_estancia. El resto parecen estar correctamente. En cuanto a la columna de estrellas, se observa que cuenta con 5 valores únicos, es decir, no recoge números de estrellas que no sean enteros tipo 4.3, sino que solo dispone de los valores: 1,2,3,4,5, con lo que en principio debería estar en tipo integer.\n",
    "- Observación primera de nulos: Contamos con nulos en 4 columnas (inicio_estancia, final_estancia, precio_noche, estrellas)"
   ]
  },
  {
   "cell_type": "code",
   "execution_count": 681,
   "metadata": {},
   "outputs": [],
   "source": [
    "# convierte el tipo de dato de las 3 columnas de fecha en tipo datetime\n",
    "col_fechas = [\"fecha_reserva\", \"inicio_estancia\", \"final_estancia\"]\n",
    "for col in col_fechas:\n",
    "    df[col] = pd.to_datetime(df[col])"
   ]
  },
  {
   "cell_type": "code",
   "execution_count": 682,
   "metadata": {},
   "outputs": [],
   "source": [
    "# convierte la columna estrellas de tipo float a tipo integer \n",
    "df[\"estrellas\"] = df[\"estrellas\"].astype(\"Int64\")"
   ]
  },
  {
   "cell_type": "code",
   "execution_count": 683,
   "metadata": {},
   "outputs": [
    {
     "name": "stdout",
     "output_type": "stream",
     "text": [
      "<class 'pandas.core.frame.DataFrame'>\n",
      "RangeIndex: 15098 entries, 0 to 15097\n",
      "Data columns (total 14 columns):\n",
      " #   Column           Non-Null Count  Dtype         \n",
      "---  ------           --------------  -----         \n",
      " 0   id_reserva       15098 non-null  object        \n",
      " 1   id_cliente       15098 non-null  object        \n",
      " 2   nombre           15098 non-null  object        \n",
      " 3   apellido         15098 non-null  object        \n",
      " 4   mail             15098 non-null  object        \n",
      " 5   competencia      15098 non-null  bool          \n",
      " 6   fecha_reserva    9926 non-null   datetime64[ns]\n",
      " 7   inicio_estancia  15023 non-null  datetime64[ns]\n",
      " 8   final_estancia   15023 non-null  datetime64[ns]\n",
      " 9   id_hotel         15098 non-null  int64         \n",
      " 10  precio_noche     9874 non-null   float64       \n",
      " 11  nombre_hotel     15098 non-null  object        \n",
      " 12  estrellas        9926 non-null   Int64         \n",
      " 13  ciudad           15098 non-null  object        \n",
      "dtypes: Int64(1), bool(1), datetime64[ns](3), float64(1), int64(1), object(7)\n",
      "memory usage: 1.5+ MB\n"
     ]
    }
   ],
   "source": [
    "# comprueba que se han cambiado correctamente los tipos de dato de las columnas\n",
    "df.info()"
   ]
  },
  {
   "cell_type": "code",
   "execution_count": 684,
   "metadata": {},
   "outputs": [
    {
     "data": {
      "text/plain": [
       "np.int64(98)"
      ]
     },
     "execution_count": 684,
     "metadata": {},
     "output_type": "execute_result"
    }
   ],
   "source": [
    "# saca el numero de duplicados por todas las columnas que hay en el dataframe\n",
    "df.duplicated().sum()"
   ]
  },
  {
   "cell_type": "code",
   "execution_count": 685,
   "metadata": {},
   "outputs": [],
   "source": [
    "# elimina los duplicados por todas las columnas del dataframe \n",
    "df.drop_duplicates(inplace=True)"
   ]
  },
  {
   "cell_type": "code",
   "execution_count": 686,
   "metadata": {},
   "outputs": [
    {
     "data": {
      "text/plain": [
       "np.int64(0)"
      ]
     },
     "execution_count": 686,
     "metadata": {},
     "output_type": "execute_result"
    }
   ],
   "source": [
    "# comprueba si hay duplicados por la columna id_reserva\n",
    "df[\"id_reserva\"].duplicated().sum()"
   ]
  },
  {
   "cell_type": "code",
   "execution_count": 687,
   "metadata": {},
   "outputs": [
    {
     "data": {
      "text/plain": [
       "(15000, 14)"
      ]
     },
     "execution_count": 687,
     "metadata": {},
     "output_type": "execute_result"
    }
   ],
   "source": [
    "# saca la forma del dataframe tras haber eliminado duplicados\n",
    "df.shape"
   ]
  },
  {
   "cell_type": "markdown",
   "metadata": {},
   "source": [
    "En cuanto a los duplicados, contamos con 98 duplicados por todas las columnas. Es decir, reservas que están completamente repetidas. En este caso, las eliminamos del conjunto de datos  nos quedamos con 15000 reservas. Además, una vez eliminadas estas reservas es importante observar si por el campo \"id_reserva\" hay algún duplicado, y ¿por qué? pues porque id_reserva es el identificador único de cada reserva (cada registro) y no puede estar repetido. Comprobamos que no hay duplicados por este campo y por lo tanto, todas las reservas son únicas y estaría todo correcto. Por el resto de id como el id_cliente o el id_hotel no hay que comprobarlo ya que por estos campos sí pueden haber duplicados. Pueden haber clientes que hayan realizado más de una reserva o hoteles que hayan sido reservados en más de una ocasión."
   ]
  },
  {
   "cell_type": "markdown",
   "metadata": {},
   "source": [
    "En cuanto a los valores nulos, de primeras parecía que únicamente habían 4 columnas con valores nulos (inicio_estancia, final_estancia, precio_noche, estrellas), pero por lo que he observado en estos primeros vistazos sobre el conjunto de datos, las columnas fecha_reserva, nombre_hotel y ciudad también tienen valores faltantes, lo que ocurre es que son espacios en blanco y no se están contando como valores nulos porque pandas no lo está identificando así. Además, parece que los nulos tienen que ver con los hoteles de la competencia. Lo primero que voy a hacer es convertir esos espacios en blanco en valores nulos para hacer un recuento correcto de los mismos."
   ]
  },
  {
   "cell_type": "code",
   "execution_count": 688,
   "metadata": {},
   "outputs": [],
   "source": [
    "# reemplaza los valores en blanco por valores nulos \n",
    "col_blancos = [\"fecha_reserva\", \"nombre_hotel\", \"ciudad\"]\n",
    "for col in col_blancos:\n",
    "    df[col] = df[col].replace(\"\", np.nan)"
   ]
  },
  {
   "cell_type": "code",
   "execution_count": 689,
   "metadata": {},
   "outputs": [
    {
     "data": {
      "text/html": [
       "<div>\n",
       "<style scoped>\n",
       "    .dataframe tbody tr th:only-of-type {\n",
       "        vertical-align: middle;\n",
       "    }\n",
       "\n",
       "    .dataframe tbody tr th {\n",
       "        vertical-align: top;\n",
       "    }\n",
       "\n",
       "    .dataframe thead th {\n",
       "        text-align: right;\n",
       "    }\n",
       "</style>\n",
       "<table border=\"1\" class=\"dataframe\">\n",
       "  <thead>\n",
       "    <tr style=\"text-align: right;\">\n",
       "      <th></th>\n",
       "      <th>Numero_nulos</th>\n",
       "      <th>Porcentaje_nulos</th>\n",
       "      <th>Tipo_dato</th>\n",
       "    </tr>\n",
       "  </thead>\n",
       "  <tbody>\n",
       "    <tr>\n",
       "      <th>id_reserva</th>\n",
       "      <td>0</td>\n",
       "      <td>0.00</td>\n",
       "      <td>object</td>\n",
       "    </tr>\n",
       "    <tr>\n",
       "      <th>id_cliente</th>\n",
       "      <td>0</td>\n",
       "      <td>0.00</td>\n",
       "      <td>object</td>\n",
       "    </tr>\n",
       "    <tr>\n",
       "      <th>nombre</th>\n",
       "      <td>0</td>\n",
       "      <td>0.00</td>\n",
       "      <td>object</td>\n",
       "    </tr>\n",
       "    <tr>\n",
       "      <th>apellido</th>\n",
       "      <td>0</td>\n",
       "      <td>0.00</td>\n",
       "      <td>object</td>\n",
       "    </tr>\n",
       "    <tr>\n",
       "      <th>mail</th>\n",
       "      <td>0</td>\n",
       "      <td>0.00</td>\n",
       "      <td>object</td>\n",
       "    </tr>\n",
       "    <tr>\n",
       "      <th>competencia</th>\n",
       "      <td>0</td>\n",
       "      <td>0.00</td>\n",
       "      <td>bool</td>\n",
       "    </tr>\n",
       "    <tr>\n",
       "      <th>fecha_reserva</th>\n",
       "      <td>5172</td>\n",
       "      <td>34.48</td>\n",
       "      <td>datetime64[ns]</td>\n",
       "    </tr>\n",
       "    <tr>\n",
       "      <th>inicio_estancia</th>\n",
       "      <td>75</td>\n",
       "      <td>0.50</td>\n",
       "      <td>datetime64[ns]</td>\n",
       "    </tr>\n",
       "    <tr>\n",
       "      <th>final_estancia</th>\n",
       "      <td>75</td>\n",
       "      <td>0.50</td>\n",
       "      <td>datetime64[ns]</td>\n",
       "    </tr>\n",
       "    <tr>\n",
       "      <th>id_hotel</th>\n",
       "      <td>0</td>\n",
       "      <td>0.00</td>\n",
       "      <td>int64</td>\n",
       "    </tr>\n",
       "    <tr>\n",
       "      <th>precio_noche</th>\n",
       "      <td>5224</td>\n",
       "      <td>34.83</td>\n",
       "      <td>float64</td>\n",
       "    </tr>\n",
       "    <tr>\n",
       "      <th>nombre_hotel</th>\n",
       "      <td>5172</td>\n",
       "      <td>34.48</td>\n",
       "      <td>object</td>\n",
       "    </tr>\n",
       "    <tr>\n",
       "      <th>estrellas</th>\n",
       "      <td>5172</td>\n",
       "      <td>34.48</td>\n",
       "      <td>Int64</td>\n",
       "    </tr>\n",
       "    <tr>\n",
       "      <th>ciudad</th>\n",
       "      <td>5172</td>\n",
       "      <td>34.48</td>\n",
       "      <td>object</td>\n",
       "    </tr>\n",
       "  </tbody>\n",
       "</table>\n",
       "</div>"
      ],
      "text/plain": [
       "                 Numero_nulos  Porcentaje_nulos       Tipo_dato\n",
       "id_reserva                  0              0.00          object\n",
       "id_cliente                  0              0.00          object\n",
       "nombre                      0              0.00          object\n",
       "apellido                    0              0.00          object\n",
       "mail                        0              0.00          object\n",
       "competencia                 0              0.00            bool\n",
       "fecha_reserva            5172             34.48  datetime64[ns]\n",
       "inicio_estancia            75              0.50  datetime64[ns]\n",
       "final_estancia             75              0.50  datetime64[ns]\n",
       "id_hotel                    0              0.00           int64\n",
       "precio_noche             5224             34.83         float64\n",
       "nombre_hotel             5172             34.48          object\n",
       "estrellas                5172             34.48           Int64\n",
       "ciudad                   5172             34.48          object"
      ]
     },
     "execution_count": 689,
     "metadata": {},
     "output_type": "execute_result"
    }
   ],
   "source": [
    "# llama a la funcion reporte aplicandola al dataframe \n",
    "info_reporte(df)"
   ]
  },
  {
   "cell_type": "code",
   "execution_count": 690,
   "metadata": {},
   "outputs": [
    {
     "data": {
      "text/plain": [
       "5172"
      ]
     },
     "execution_count": 690,
     "metadata": {},
     "output_type": "execute_result"
    }
   ],
   "source": [
    "# recuento de hoteles de competencia \n",
    "df[df[\"competencia\"] == True].shape[0]"
   ]
  },
  {
   "cell_type": "markdown",
   "metadata": {},
   "source": [
    "Observamos como ahora ya si nos está sacando el recuento y el porcentaje de nulos de todas las columnas. De primeras ya es curioso que las columnas fecha_reserva, nombre_hotel, estrellas y ciudad tengan el mismo número de nulos, por lo de que parece que tienen relación con los hoteles de competencia. Y, efectivamente, coincide con el número de reservas que provienen de hoteles de la competencia (5172). Por lo tanto, algunas de ellas parecen que se van a sacar a través de web scraping, como la de nombre_hotel y la de estrellas. En el caso de la columna de ciudad no sería necesario web scraping, pues conocemos que los hoteles de la competencia también están ubicados en Madrid y, por lo tanto, podemos rellenar directamente con \"Madrid\"."
   ]
  },
  {
   "cell_type": "code",
   "execution_count": 691,
   "metadata": {},
   "outputs": [],
   "source": [
    "# reemplaza los nulos de la columna ciudad por \"Madrid\"\n",
    "df[\"ciudad\"] = df[\"ciudad\"].fillna(\"Madrid\")"
   ]
  },
  {
   "cell_type": "markdown",
   "metadata": {},
   "source": [
    "DUDA MARTES: y el dato de fecha de reserva como se saca? de donde y tal?"
   ]
  },
  {
   "cell_type": "code",
   "execution_count": 692,
   "metadata": {},
   "outputs": [
    {
     "data": {
      "text/plain": [
       "inicio_estancia    1\n",
       "final_estancia     1\n",
       "dtype: int64"
      ]
     },
     "execution_count": 692,
     "metadata": {},
     "output_type": "execute_result"
    }
   ],
   "source": [
    "# saca el numero de valores unicos de las columnas inicio_estancia y final_estancia\n",
    "df[[\"inicio_estancia\", \"final_estancia\"]].nunique()"
   ]
  },
  {
   "cell_type": "markdown",
   "metadata": {},
   "source": [
    "Por otro lado, en cuanto a las columnas de inicio_estancia y final_estancia, del primer vistazo de los datos, también he podido observar que por lo que parece, ambas disponen de un único valor, y además, lo he comprobado, y es así. Es decir, para todas las reservas, la fecha de inicio de la estancia es la misma, concretamente el 1 de marzo de 2025, y para todas las reservas la fecha de fin de estancia también es la misma, concretamente el 2 de marzo de 2025, es decir, se están recogiendo datos de reservas exclusivas de una estancia de 1 día, concretamente entre el 1 y el 2 de marzo. En este caso, los valores nulos de ambas columnas, que encima suponen un porcentaje ínfimo en cada una de ellas (0,5%) también pueden ser rellenados con las mismas fechas."
   ]
  },
  {
   "cell_type": "code",
   "execution_count": 693,
   "metadata": {},
   "outputs": [],
   "source": [
    "# rellena los valores nulos de las columnas inicio_estancia y final_estancia por la unica fecha existente en cada columna\n",
    "fechas_estancia = [\"inicio_estancia\", \"final_estancia\"]\n",
    "for col in fechas_estancia:\n",
    "    df[col] = df[col].fillna(df[col].dropna().unique()[0])"
   ]
  },
  {
   "cell_type": "markdown",
   "metadata": {},
   "source": [
    "Por último, la última columna que tiene nulos es el precio_noche. Hay nulos en esta columna para 52 reservas de hoteles propios, y el resto de nulos corresponden a todos los hoteles de la competencia, es decir, un dato igualmente a scrapear en el caso de los hoteles de la competencia. En el caso de los hoteles propios, hay que valorar como tratar estos 52 registros nulos."
   ]
  },
  {
   "cell_type": "code",
   "execution_count": 695,
   "metadata": {},
   "outputs": [
    {
     "name": "stdout",
     "output_type": "stream",
     "text": [
      "52\n",
      "5172\n"
     ]
    }
   ],
   "source": [
    "# saca el numero de reservas correspondientes con hoteles propios y con precio_noche nulo\n",
    "numero_reservas = df[(df[\"competencia\"] == False) & (df[\"precio_noche\"].isna())].shape[0]\n",
    "print(numero_reservas)\n",
    "numero_hoteles_competencia = df[df[\"precio_noche\"].isna()].shape[0] - numero_reservas\n",
    "print(numero_hoteles_competencia)"
   ]
  },
  {
   "cell_type": "code",
   "execution_count": 696,
   "metadata": {},
   "outputs": [
    {
     "data": {
      "text/plain": [
       "nombre_hotel\n",
       "Hotel Sol y Luna          5\n",
       "Hotel Torre Dorada        5\n",
       "Hotel Camino del Sol      4\n",
       "Hotel Mirador Real        4\n",
       "Hotel Las Estrellas       4\n",
       "Hotel Monte Verde         4\n",
       "Hotel Puerta del Cielo    3\n",
       "Hotel Encanto Real        3\n",
       "Palacio del Sol           3\n",
       "Gran Hotel Madrid         3\n",
       "Hotel Brisas del Mar      2\n",
       "Hotel Los Almendros       2\n",
       "Hotel Vista Alegre        2\n",
       "Hotel Rincón Sereno       2\n",
       "Hotel Costa Azul          2\n",
       "Hotel Luz de Madrid       1\n",
       "Hotel Jardines del Rey    1\n",
       "Hotel Palacio Imperial    1\n",
       "Hotel Maravilla Real      1\n",
       "Name: count, dtype: int64"
      ]
     },
     "execution_count": 696,
     "metadata": {},
     "output_type": "execute_result"
    }
   ],
   "source": [
    "# saca los hoteles y el numero de registros por cada hotel donde precio_noche es nulo\n",
    "df_nulos_precio = df[(df[\"competencia\"] == False) & (df[\"precio_noche\"].isna())]\n",
    "df_nulos_precio[\"nombre_hotel\"].value_counts()"
   ]
  },
  {
   "cell_type": "code",
   "execution_count": 697,
   "metadata": {},
   "outputs": [
    {
     "data": {
      "text/html": [
       "<div>\n",
       "<style scoped>\n",
       "    .dataframe tbody tr th:only-of-type {\n",
       "        vertical-align: middle;\n",
       "    }\n",
       "\n",
       "    .dataframe tbody tr th {\n",
       "        vertical-align: top;\n",
       "    }\n",
       "\n",
       "    .dataframe thead th {\n",
       "        text-align: right;\n",
       "    }\n",
       "</style>\n",
       "<table border=\"1\" class=\"dataframe\">\n",
       "  <thead>\n",
       "    <tr style=\"text-align: right;\">\n",
       "      <th></th>\n",
       "      <th>id_reserva</th>\n",
       "      <th>id_cliente</th>\n",
       "      <th>nombre</th>\n",
       "      <th>apellido</th>\n",
       "      <th>mail</th>\n",
       "      <th>competencia</th>\n",
       "      <th>fecha_reserva</th>\n",
       "      <th>inicio_estancia</th>\n",
       "      <th>final_estancia</th>\n",
       "      <th>id_hotel</th>\n",
       "      <th>precio_noche</th>\n",
       "      <th>nombre_hotel</th>\n",
       "      <th>estrellas</th>\n",
       "      <th>ciudad</th>\n",
       "    </tr>\n",
       "  </thead>\n",
       "  <tbody>\n",
       "    <tr>\n",
       "      <th>14055</th>\n",
       "      <td>bdedeb47-7192-4e34-8307-89aeaabe78e8</td>\n",
       "      <td>ca4e338c-c6e9-4397-b7bd-51f89a215d8f</td>\n",
       "      <td>Ángela</td>\n",
       "      <td>Arana</td>\n",
       "      <td>ángela.arana@example.com</td>\n",
       "      <td>False</td>\n",
       "      <td>2025-02-06</td>\n",
       "      <td>2025-03-01</td>\n",
       "      <td>2025-03-02</td>\n",
       "      <td>36</td>\n",
       "      <td>478.87</td>\n",
       "      <td>Hotel Sol y Luna</td>\n",
       "      <td>1</td>\n",
       "      <td>Madrid</td>\n",
       "    </tr>\n",
       "    <tr>\n",
       "      <th>430</th>\n",
       "      <td>b61d013b-7a4e-44ea-af4c-97e27576f8b1</td>\n",
       "      <td>9f99a0e8-4366-4588-a696-46e350e53fcf</td>\n",
       "      <td>Susanita</td>\n",
       "      <td>Gracia</td>\n",
       "      <td>susanita.gracia@example.com</td>\n",
       "      <td>False</td>\n",
       "      <td>2025-02-05</td>\n",
       "      <td>2025-03-01</td>\n",
       "      <td>2025-03-02</td>\n",
       "      <td>28</td>\n",
       "      <td>181.06</td>\n",
       "      <td>Hotel Sol y Luna</td>\n",
       "      <td>5</td>\n",
       "      <td>Madrid</td>\n",
       "    </tr>\n",
       "    <tr>\n",
       "      <th>823</th>\n",
       "      <td>4726039a-20b0-4992-b0f9-4dc3cbcfb8a1</td>\n",
       "      <td>d237ff3d-366b-4527-b729-016452583f29</td>\n",
       "      <td>Violeta</td>\n",
       "      <td>Alcántara</td>\n",
       "      <td>violeta.alcántara@example.com</td>\n",
       "      <td>False</td>\n",
       "      <td>2025-02-03</td>\n",
       "      <td>2025-03-01</td>\n",
       "      <td>2025-03-02</td>\n",
       "      <td>40</td>\n",
       "      <td>51.15</td>\n",
       "      <td>Hotel Sol y Luna</td>\n",
       "      <td>2</td>\n",
       "      <td>Madrid</td>\n",
       "    </tr>\n",
       "    <tr>\n",
       "      <th>12780</th>\n",
       "      <td>228bd3cb-f46f-4601-8d23-77634403142d</td>\n",
       "      <td>fcfc574b-bdb1-4e6f-8c8a-4176a99bb710</td>\n",
       "      <td>Gregorio</td>\n",
       "      <td>Gil</td>\n",
       "      <td>gregorio.gil@example.com</td>\n",
       "      <td>False</td>\n",
       "      <td>2025-02-09</td>\n",
       "      <td>2025-03-01</td>\n",
       "      <td>2025-03-02</td>\n",
       "      <td>47</td>\n",
       "      <td>358.31</td>\n",
       "      <td>Hotel Sol y Luna</td>\n",
       "      <td>5</td>\n",
       "      <td>Madrid</td>\n",
       "    </tr>\n",
       "    <tr>\n",
       "      <th>7609</th>\n",
       "      <td>75755d4e-62e6-42bf-b0d8-684115f75030</td>\n",
       "      <td>5c00fafa-8749-4688-9770-2f1c479bb072</td>\n",
       "      <td>Valerio</td>\n",
       "      <td>Bermúdez</td>\n",
       "      <td>valerio.bermúdez@example.com</td>\n",
       "      <td>False</td>\n",
       "      <td>2025-02-03</td>\n",
       "      <td>2025-03-01</td>\n",
       "      <td>2025-03-02</td>\n",
       "      <td>35</td>\n",
       "      <td>167.09</td>\n",
       "      <td>Hotel Sol y Luna</td>\n",
       "      <td>5</td>\n",
       "      <td>Madrid</td>\n",
       "    </tr>\n",
       "  </tbody>\n",
       "</table>\n",
       "</div>"
      ],
      "text/plain": [
       "                                 id_reserva  \\\n",
       "14055  bdedeb47-7192-4e34-8307-89aeaabe78e8   \n",
       "430    b61d013b-7a4e-44ea-af4c-97e27576f8b1   \n",
       "823    4726039a-20b0-4992-b0f9-4dc3cbcfb8a1   \n",
       "12780  228bd3cb-f46f-4601-8d23-77634403142d   \n",
       "7609   75755d4e-62e6-42bf-b0d8-684115f75030   \n",
       "\n",
       "                                 id_cliente    nombre   apellido  \\\n",
       "14055  ca4e338c-c6e9-4397-b7bd-51f89a215d8f    Ángela      Arana   \n",
       "430    9f99a0e8-4366-4588-a696-46e350e53fcf  Susanita     Gracia   \n",
       "823    d237ff3d-366b-4527-b729-016452583f29   Violeta  Alcántara   \n",
       "12780  fcfc574b-bdb1-4e6f-8c8a-4176a99bb710  Gregorio        Gil   \n",
       "7609   5c00fafa-8749-4688-9770-2f1c479bb072   Valerio   Bermúdez   \n",
       "\n",
       "                                mail  competencia fecha_reserva  \\\n",
       "14055       ángela.arana@example.com        False    2025-02-06   \n",
       "430      susanita.gracia@example.com        False    2025-02-05   \n",
       "823    violeta.alcántara@example.com        False    2025-02-03   \n",
       "12780       gregorio.gil@example.com        False    2025-02-09   \n",
       "7609    valerio.bermúdez@example.com        False    2025-02-03   \n",
       "\n",
       "      inicio_estancia final_estancia  id_hotel  precio_noche  \\\n",
       "14055      2025-03-01     2025-03-02        36        478.87   \n",
       "430        2025-03-01     2025-03-02        28        181.06   \n",
       "823        2025-03-01     2025-03-02        40         51.15   \n",
       "12780      2025-03-01     2025-03-02        47        358.31   \n",
       "7609       2025-03-01     2025-03-02        35        167.09   \n",
       "\n",
       "           nombre_hotel  estrellas  ciudad  \n",
       "14055  Hotel Sol y Luna          1  Madrid  \n",
       "430    Hotel Sol y Luna          5  Madrid  \n",
       "823    Hotel Sol y Luna          2  Madrid  \n",
       "12780  Hotel Sol y Luna          5  Madrid  \n",
       "7609   Hotel Sol y Luna          5  Madrid  "
      ]
     },
     "execution_count": 697,
     "metadata": {},
     "output_type": "execute_result"
    }
   ],
   "source": [
    "# filtra por el hotel \"Hotel Sol y Luna\"\n",
    "df[df[\"nombre_hotel\"] == \"Hotel Sol y Luna\"].sample(5)"
   ]
  },
  {
   "cell_type": "markdown",
   "metadata": {},
   "source": [
    "Como se puede observar, para por ejemplo el Hotel Sol y Luna el precio_noche es diferente para cada reserva, pues al final aunque la estancia vaya a ser el mismo día, los precios van fluctuando por momentos, y si por ejemplo reservas con más antelación, probablemente pues el precio por noche será menor. Lo que se puede valorar es sustituir los pocos nulos que hay por cada hotel por la media o la mediana (en función de los outliers) de la columna precio_noche para cada hotel. "
   ]
  },
  {
   "cell_type": "markdown",
   "metadata": {},
   "source": [
    "DUDA MARTES: sacando esta informacion me he dado cuenta de que hay algo raro porque el Hotel Sol y Luna en Madrid que deberia ser el mismo claro, tiene para cada reserva un id_hotel diferente cuando deberia ser el mismo y también estrellas diferentes. ??????"
   ]
  },
  {
   "cell_type": "markdown",
   "metadata": {},
   "source": [
    "Outliers de la columna precio_noche"
   ]
  },
  {
   "cell_type": "code",
   "execution_count": 698,
   "metadata": {},
   "outputs": [
    {
     "data": {
      "text/plain": [
       "count    9776.000000\n",
       "mean      275.066498\n",
       "std       129.501317\n",
       "min        50.010000\n",
       "25%       163.062500\n",
       "50%       273.420000\n",
       "75%       387.810000\n",
       "max       499.820000\n",
       "Name: precio_noche, dtype: float64"
      ]
     },
     "execution_count": 698,
     "metadata": {},
     "output_type": "execute_result"
    }
   ],
   "source": [
    "# saca los estadisticos de precio_noche\n",
    "df[\"precio_noche\"].describe()"
   ]
  },
  {
   "cell_type": "code",
   "execution_count": 699,
   "metadata": {},
   "outputs": [
    {
     "data": {
      "text/plain": [
       "Text(0.5, 1.0, 'Histograma de Precio_noche')"
      ]
     },
     "execution_count": 699,
     "metadata": {},
     "output_type": "execute_result"
    },
    {
     "data": {
      "image/png": "[encoded data removed]",
      "text/plain": [
       "<Figure size 1000x500 with 1 Axes>"
      ]
     },
     "metadata": {},
     "output_type": "display_data"
    }
   ],
   "source": [
    "# para ver la distribucion de los datos\n",
    "plt.figure(figsize=(10,5))\n",
    "sns.histplot(df[\"precio_noche\"], \n",
    "             bins=80, \n",
    "             kde=True)\n",
    "plt.xlabel(\"precio_noche\")\n",
    "plt.ylabel(\"Frecuencia\")\n",
    "plt.title(\"Histograma de Precio_noche\")"
   ]
  },
  {
   "cell_type": "code",
   "execution_count": null,
   "metadata": {},
   "outputs": [],
   "source": [
    "# saca el boxplot\n",
    "col_per_row = 3 # numero de columnas que voy a tener en mi subplot\n",
    "num_cols = len(df.columns) # numero de columnas en el dataframe \n",
    "num_rows = (num_cols // col_per_row) + (num_cols % col_per_row > 0) # ponemos las dos barras para que solo salgan los números enteros, sin decimales. # numero de subfilas que voy a tener en el subplot \n",
    "\n",
    "fig,axes = plt.subplots(nrows = num_rows,\n",
    "                       ncols = col_per_row,\n",
    "                       figsize = (10, 5 * num_rows)) # con el axes vamos a decidir como queremos que se establezcan las figuras, en este caso, como una matriz 2x5, de 2 columnas y 5 filas\n",
    "for i, col in enumerate(df.columns): # el enumerate irá iterando por cada columna, por cada indice de la columna y la columna\n",
    "    row, col_idx = divmod(i, col_per_row) # devuelve una tupla a la que le entra un indice y lo divide por col_per_row, hace una division entera de los valores que le paso. En este caso se realiza \n",
    "    sns.boxplot (y = df[col], ax = axes[row, col_idx])\n",
    "    axes[row, col_idx].set_title(f\"Boxplot de {col}\")"
   ]
  },
  {
   "cell_type": "code",
   "execution_count": 700,
   "metadata": {},
   "outputs": [
    {
     "ename": "KeyError",
     "evalue": "'ExitRates'",
     "output_type": "error",
     "traceback": [
      "\u001b[1;31m---------------------------------------------------------------------------\u001b[0m",
      "\u001b[1;31mKeyError\u001b[0m                                  Traceback (most recent call last)",
      "File \u001b[1;32mc:\\Users\\raque\\AppData\\Local\\Programs\\Python\\Python313\\Lib\\site-packages\\pandas\\core\\indexes\\base.py:3805\u001b[0m, in \u001b[0;36mIndex.get_loc\u001b[1;34m(self, key)\u001b[0m\n\u001b[0;32m   3804\u001b[0m \u001b[38;5;28;01mtry\u001b[39;00m:\n\u001b[1;32m-> 3805\u001b[0m     \u001b[38;5;28;01mreturn\u001b[39;00m \u001b[38;5;28;43mself\u001b[39;49m\u001b[38;5;241;43m.\u001b[39;49m\u001b[43m_engine\u001b[49m\u001b[38;5;241;43m.\u001b[39;49m\u001b[43mget_loc\u001b[49m\u001b[43m(\u001b[49m\u001b[43mcasted_key\u001b[49m\u001b[43m)\u001b[49m\n\u001b[0;32m   3806\u001b[0m \u001b[38;5;28;01mexcept\u001b[39;00m \u001b[38;5;167;01mKeyError\u001b[39;00m \u001b[38;5;28;01mas\u001b[39;00m err:\n",
      "File \u001b[1;32mindex.pyx:167\u001b[0m, in \u001b[0;36mpandas._libs.index.IndexEngine.get_loc\u001b[1;34m()\u001b[0m\n",
      "File \u001b[1;32mindex.pyx:196\u001b[0m, in \u001b[0;36mpandas._libs.index.IndexEngine.get_loc\u001b[1;34m()\u001b[0m\n",
      "File \u001b[1;32mpandas\\\\_libs\\\\hashtable_class_helper.pxi:7081\u001b[0m, in \u001b[0;36mpandas._libs.hashtable.PyObjectHashTable.get_item\u001b[1;34m()\u001b[0m\n",
      "File \u001b[1;32mpandas\\\\_libs\\\\hashtable_class_helper.pxi:7089\u001b[0m, in \u001b[0;36mpandas._libs.hashtable.PyObjectHashTable.get_item\u001b[1;34m()\u001b[0m\n",
      "\u001b[1;31mKeyError\u001b[0m: 'ExitRates'",
      "\nThe above exception was the direct cause of the following exception:\n",
      "\u001b[1;31mKeyError\u001b[0m                                  Traceback (most recent call last)",
      "Cell \u001b[1;32mIn[700], line 2\u001b[0m\n\u001b[0;32m      1\u001b[0m \u001b[38;5;66;03m# IQR \u001b[39;00m\n\u001b[1;32m----> 2\u001b[0m Q1 \u001b[38;5;241m=\u001b[39m \u001b[43mdf\u001b[49m\u001b[43m[\u001b[49m\u001b[38;5;124;43m\"\u001b[39;49m\u001b[38;5;124;43mExitRates\u001b[39;49m\u001b[38;5;124;43m\"\u001b[39;49m\u001b[43m]\u001b[49m\u001b[38;5;241m.\u001b[39mquantile(\u001b[38;5;241m0.25\u001b[39m)\n\u001b[0;32m      3\u001b[0m Q3 \u001b[38;5;241m=\u001b[39m df[\u001b[38;5;124m\"\u001b[39m\u001b[38;5;124mExitRates\u001b[39m\u001b[38;5;124m\"\u001b[39m]\u001b[38;5;241m.\u001b[39mquantile(\u001b[38;5;241m0.75\u001b[39m)\n\u001b[0;32m      4\u001b[0m IQR \u001b[38;5;241m=\u001b[39m Q3 \u001b[38;5;241m-\u001b[39m Q1 \u001b[38;5;66;03m# tamaño de la caja \u001b[39;00m\n",
      "File \u001b[1;32mc:\\Users\\raque\\AppData\\Local\\Programs\\Python\\Python313\\Lib\\site-packages\\pandas\\core\\frame.py:4102\u001b[0m, in \u001b[0;36mDataFrame.__getitem__\u001b[1;34m(self, key)\u001b[0m\n\u001b[0;32m   4100\u001b[0m \u001b[38;5;28;01mif\u001b[39;00m \u001b[38;5;28mself\u001b[39m\u001b[38;5;241m.\u001b[39mcolumns\u001b[38;5;241m.\u001b[39mnlevels \u001b[38;5;241m>\u001b[39m \u001b[38;5;241m1\u001b[39m:\n\u001b[0;32m   4101\u001b[0m     \u001b[38;5;28;01mreturn\u001b[39;00m \u001b[38;5;28mself\u001b[39m\u001b[38;5;241m.\u001b[39m_getitem_multilevel(key)\n\u001b[1;32m-> 4102\u001b[0m indexer \u001b[38;5;241m=\u001b[39m \u001b[38;5;28;43mself\u001b[39;49m\u001b[38;5;241;43m.\u001b[39;49m\u001b[43mcolumns\u001b[49m\u001b[38;5;241;43m.\u001b[39;49m\u001b[43mget_loc\u001b[49m\u001b[43m(\u001b[49m\u001b[43mkey\u001b[49m\u001b[43m)\u001b[49m\n\u001b[0;32m   4103\u001b[0m \u001b[38;5;28;01mif\u001b[39;00m is_integer(indexer):\n\u001b[0;32m   4104\u001b[0m     indexer \u001b[38;5;241m=\u001b[39m [indexer]\n",
      "File \u001b[1;32mc:\\Users\\raque\\AppData\\Local\\Programs\\Python\\Python313\\Lib\\site-packages\\pandas\\core\\indexes\\base.py:3812\u001b[0m, in \u001b[0;36mIndex.get_loc\u001b[1;34m(self, key)\u001b[0m\n\u001b[0;32m   3807\u001b[0m     \u001b[38;5;28;01mif\u001b[39;00m \u001b[38;5;28misinstance\u001b[39m(casted_key, \u001b[38;5;28mslice\u001b[39m) \u001b[38;5;129;01mor\u001b[39;00m (\n\u001b[0;32m   3808\u001b[0m         \u001b[38;5;28misinstance\u001b[39m(casted_key, abc\u001b[38;5;241m.\u001b[39mIterable)\n\u001b[0;32m   3809\u001b[0m         \u001b[38;5;129;01mand\u001b[39;00m \u001b[38;5;28many\u001b[39m(\u001b[38;5;28misinstance\u001b[39m(x, \u001b[38;5;28mslice\u001b[39m) \u001b[38;5;28;01mfor\u001b[39;00m x \u001b[38;5;129;01min\u001b[39;00m casted_key)\n\u001b[0;32m   3810\u001b[0m     ):\n\u001b[0;32m   3811\u001b[0m         \u001b[38;5;28;01mraise\u001b[39;00m InvalidIndexError(key)\n\u001b[1;32m-> 3812\u001b[0m     \u001b[38;5;28;01mraise\u001b[39;00m \u001b[38;5;167;01mKeyError\u001b[39;00m(key) \u001b[38;5;28;01mfrom\u001b[39;00m \u001b[38;5;21;01merr\u001b[39;00m\n\u001b[0;32m   3813\u001b[0m \u001b[38;5;28;01mexcept\u001b[39;00m \u001b[38;5;167;01mTypeError\u001b[39;00m:\n\u001b[0;32m   3814\u001b[0m     \u001b[38;5;66;03m# If we have a listlike key, _check_indexing_error will raise\u001b[39;00m\n\u001b[0;32m   3815\u001b[0m     \u001b[38;5;66;03m#  InvalidIndexError. Otherwise we fall through and re-raise\u001b[39;00m\n\u001b[0;32m   3816\u001b[0m     \u001b[38;5;66;03m#  the TypeError.\u001b[39;00m\n\u001b[0;32m   3817\u001b[0m     \u001b[38;5;28mself\u001b[39m\u001b[38;5;241m.\u001b[39m_check_indexing_error(key)\n",
      "\u001b[1;31mKeyError\u001b[0m: 'ExitRates'"
     ]
    }
   ],
   "source": [
    "# rango intercuartilico\n",
    "Q1 = df[\"ExitRates\"].quantile(0.25)\n",
    "Q3 = df[\"ExitRates\"].quantile(0.75)\n",
    "IQR = Q3 - Q1 # tamaño de la caja \n",
    "lower_bound = Q1 - 1.5 * IQR\n",
    "upper_bound = Q3 + 1.5 * IQR\n",
    "\n",
    "outliers = df[(df[\"ExitRates\"] < lower_bound) | (df[\"ExitRates\"] > upper_bound)]\n",
    "num_outliers = outliers.shape[0]\n",
    "percent_outliers = round(((num_outliers / df.shape[0])*100), 2)\n",
    "percent_outliers"
   ]
  }
 ],
 "metadata": {
  "kernelspec": {
   "display_name": "Python 3",
   "language": "python",
   "name": "python3"
  },
  "language_info": {
   "codemirror_mode": {
    "name": "ipython",
    "version": 3
   },
   "file_extension": ".py",
   "mimetype": "text/x-python",
   "name": "python",
   "nbconvert_exporter": "python",
   "pygments_lexer": "ipython3",
   "version": "3.13.0"
  }
 },
 "nbformat": 4,
 "nbformat_minor": 2
}
