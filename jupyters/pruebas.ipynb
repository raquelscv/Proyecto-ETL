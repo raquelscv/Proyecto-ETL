{
 "cells": [
  {
   "cell_type": "code",
   "execution_count": 2,
   "metadata": {},
   "outputs": [],
   "source": [
    "# importa las librerias necesarias \n",
    "import pandas as pd\n",
    "import numpy as np\n",
    "import pyarrow as pa\n",
    "import matplotlib.pyplot as plt\n",
    "import seaborn as sns"
   ]
  },
  {
   "cell_type": "code",
   "execution_count": 3,
   "metadata": {},
   "outputs": [
    {
     "data": {
      "text/html": [
       "<div>\n",
       "<style scoped>\n",
       "    .dataframe tbody tr th:only-of-type {\n",
       "        vertical-align: middle;\n",
       "    }\n",
       "\n",
       "    .dataframe tbody tr th {\n",
       "        vertical-align: top;\n",
       "    }\n",
       "\n",
       "    .dataframe thead th {\n",
       "        text-align: right;\n",
       "    }\n",
       "</style>\n",
       "<table border=\"1\" class=\"dataframe\">\n",
       "  <thead>\n",
       "    <tr style=\"text-align: right;\">\n",
       "      <th></th>\n",
       "      <th>id_reserva</th>\n",
       "      <th>id_cliente</th>\n",
       "      <th>nombre</th>\n",
       "      <th>apellido</th>\n",
       "      <th>mail</th>\n",
       "      <th>competencia</th>\n",
       "      <th>fecha_reserva</th>\n",
       "      <th>inicio_estancia</th>\n",
       "      <th>final_estancia</th>\n",
       "      <th>id_hotel</th>\n",
       "      <th>precio_noche</th>\n",
       "      <th>nombre_hotel</th>\n",
       "      <th>estrellas</th>\n",
       "      <th>ciudad</th>\n",
       "    </tr>\n",
       "  </thead>\n",
       "  <tbody>\n",
       "    <tr>\n",
       "      <th>10077</th>\n",
       "      <td>88d7f599-818e-436b-85aa-a542b3d68a6b</td>\n",
       "      <td>7515f0ec-5d88-4ed7-9689-40d4b5a81aad</td>\n",
       "      <td>Lucho</td>\n",
       "      <td>Alemany</td>\n",
       "      <td>lucho.alemany@example.com</td>\n",
       "      <td>False</td>\n",
       "      <td>2025-02-04</td>\n",
       "      <td>2025-03-01</td>\n",
       "      <td>2025-03-02</td>\n",
       "      <td>14</td>\n",
       "      <td>136.78</td>\n",
       "      <td>Hotel Palacio Imperial</td>\n",
       "      <td>3.0</td>\n",
       "      <td>Madrid</td>\n",
       "    </tr>\n",
       "    <tr>\n",
       "      <th>7138</th>\n",
       "      <td>91eda978-3ffe-461e-93f3-83d0156fba3a</td>\n",
       "      <td>5310b2d9-6370-4567-a881-29a92348aa5a</td>\n",
       "      <td>Roberto</td>\n",
       "      <td>Mulet</td>\n",
       "      <td>roberto.mulet@example.com</td>\n",
       "      <td>False</td>\n",
       "      <td>2025-02-04</td>\n",
       "      <td>2025-03-01</td>\n",
       "      <td>2025-03-02</td>\n",
       "      <td>28</td>\n",
       "      <td>443.64</td>\n",
       "      <td>Hotel Brisas del Mar</td>\n",
       "      <td>3.0</td>\n",
       "      <td>Madrid</td>\n",
       "    </tr>\n",
       "    <tr>\n",
       "      <th>12537</th>\n",
       "      <td>32987cf2-4e0f-4ab4-bee2-eb6065071f51</td>\n",
       "      <td>89dfd610-8bbb-4c35-9d0a-74948a2d244e</td>\n",
       "      <td>Chucho</td>\n",
       "      <td>Jódar</td>\n",
       "      <td>chucho.jódar@example.com</td>\n",
       "      <td>True</td>\n",
       "      <td></td>\n",
       "      <td>2025-03-01</td>\n",
       "      <td>2025-03-02</td>\n",
       "      <td>117</td>\n",
       "      <td>NaN</td>\n",
       "      <td></td>\n",
       "      <td>NaN</td>\n",
       "      <td></td>\n",
       "    </tr>\n",
       "    <tr>\n",
       "      <th>13325</th>\n",
       "      <td>99b96ef7-ab2a-4816-834a-4a277d8bfcdc</td>\n",
       "      <td>0052f6c0-0d83-4b8d-b162-adce31c3954d</td>\n",
       "      <td>Víctor</td>\n",
       "      <td>Folch</td>\n",
       "      <td>víctor.folch@example.com</td>\n",
       "      <td>True</td>\n",
       "      <td></td>\n",
       "      <td>2025-03-01</td>\n",
       "      <td>2025-03-02</td>\n",
       "      <td>128</td>\n",
       "      <td>NaN</td>\n",
       "      <td></td>\n",
       "      <td>NaN</td>\n",
       "      <td></td>\n",
       "    </tr>\n",
       "    <tr>\n",
       "      <th>7806</th>\n",
       "      <td>9eca9671-ac2c-4c42-b0b1-c9d3e38b91f7</td>\n",
       "      <td>4785dd25-5547-4a8b-930d-e63d76d998bc</td>\n",
       "      <td>Balduino</td>\n",
       "      <td>Bustos</td>\n",
       "      <td>balduino.bustos@example.com</td>\n",
       "      <td>False</td>\n",
       "      <td>2025-02-01</td>\n",
       "      <td>2025-03-01</td>\n",
       "      <td>2025-03-02</td>\n",
       "      <td>27</td>\n",
       "      <td>345.75</td>\n",
       "      <td>Palacio del Sol</td>\n",
       "      <td>3.0</td>\n",
       "      <td>Madrid</td>\n",
       "    </tr>\n",
       "  </tbody>\n",
       "</table>\n",
       "</div>"
      ],
      "text/plain": [
       "                                 id_reserva  \\\n",
       "10077  88d7f599-818e-436b-85aa-a542b3d68a6b   \n",
       "7138   91eda978-3ffe-461e-93f3-83d0156fba3a   \n",
       "12537  32987cf2-4e0f-4ab4-bee2-eb6065071f51   \n",
       "13325  99b96ef7-ab2a-4816-834a-4a277d8bfcdc   \n",
       "7806   9eca9671-ac2c-4c42-b0b1-c9d3e38b91f7   \n",
       "\n",
       "                                 id_cliente    nombre apellido  \\\n",
       "10077  7515f0ec-5d88-4ed7-9689-40d4b5a81aad     Lucho  Alemany   \n",
       "7138   5310b2d9-6370-4567-a881-29a92348aa5a   Roberto    Mulet   \n",
       "12537  89dfd610-8bbb-4c35-9d0a-74948a2d244e    Chucho    Jódar   \n",
       "13325  0052f6c0-0d83-4b8d-b162-adce31c3954d    Víctor    Folch   \n",
       "7806   4785dd25-5547-4a8b-930d-e63d76d998bc  Balduino   Bustos   \n",
       "\n",
       "                              mail  competencia fecha_reserva inicio_estancia  \\\n",
       "10077    lucho.alemany@example.com        False    2025-02-04      2025-03-01   \n",
       "7138     roberto.mulet@example.com        False    2025-02-04      2025-03-01   \n",
       "12537     chucho.jódar@example.com         True                    2025-03-01   \n",
       "13325     víctor.folch@example.com         True                    2025-03-01   \n",
       "7806   balduino.bustos@example.com        False    2025-02-01      2025-03-01   \n",
       "\n",
       "      final_estancia  id_hotel  precio_noche            nombre_hotel  \\\n",
       "10077     2025-03-02        14        136.78  Hotel Palacio Imperial   \n",
       "7138      2025-03-02        28        443.64    Hotel Brisas del Mar   \n",
       "12537     2025-03-02       117           NaN                           \n",
       "13325     2025-03-02       128           NaN                           \n",
       "7806      2025-03-02        27        345.75         Palacio del Sol   \n",
       "\n",
       "       estrellas  ciudad  \n",
       "10077        3.0  Madrid  \n",
       "7138         3.0  Madrid  \n",
       "12537        NaN          \n",
       "13325        NaN          \n",
       "7806         3.0  Madrid  "
      ]
     },
     "execution_count": 3,
     "metadata": {},
     "output_type": "execute_result"
    }
   ],
   "source": [
    "# lee el archivo parquet \n",
    "df_raw = pd.read_parquet(\"../data/reservas_hoteles.parquet\")\n",
    "df_raw.sample(5)"
   ]
  },
  {
   "cell_type": "code",
   "execution_count": 4,
   "metadata": {},
   "outputs": [],
   "source": [
    "# realiza una copia del archivo original\n",
    "df = df_raw.copy()"
   ]
  },
  {
   "cell_type": "code",
   "execution_count": 5,
   "metadata": {},
   "outputs": [
    {
     "data": {
      "text/plain": [
       "(15098, 14)"
      ]
     },
     "execution_count": 5,
     "metadata": {},
     "output_type": "execute_result"
    }
   ],
   "source": [
    "# saca la forma del dataframe\n",
    "df.shape"
   ]
  },
  {
   "cell_type": "code",
   "execution_count": 6,
   "metadata": {},
   "outputs": [],
   "source": [
    "# crea una funcion que genera un reporte con informacion de nulos y tipo de dato de cada una de las columnas \n",
    "def info_reporte(dataframe):\n",
    "    df_report = pd.DataFrame()\n",
    "    df_report[\"Numero_nulos\"] = dataframe.isnull().sum()\n",
    "    df_report[\"Porcentaje_nulos\"] = round((dataframe.isnull().sum()/dataframe.shape[0]*100), 2)\n",
    "    df_report[\"Tipo_dato\"] = dataframe.dtypes\n",
    "    return df_report"
   ]
  },
  {
   "cell_type": "code",
   "execution_count": 7,
   "metadata": {},
   "outputs": [
    {
     "data": {
      "text/html": [
       "<div>\n",
       "<style scoped>\n",
       "    .dataframe tbody tr th:only-of-type {\n",
       "        vertical-align: middle;\n",
       "    }\n",
       "\n",
       "    .dataframe tbody tr th {\n",
       "        vertical-align: top;\n",
       "    }\n",
       "\n",
       "    .dataframe thead th {\n",
       "        text-align: right;\n",
       "    }\n",
       "</style>\n",
       "<table border=\"1\" class=\"dataframe\">\n",
       "  <thead>\n",
       "    <tr style=\"text-align: right;\">\n",
       "      <th></th>\n",
       "      <th>Numero_nulos</th>\n",
       "      <th>Porcentaje_nulos</th>\n",
       "      <th>Tipo_dato</th>\n",
       "    </tr>\n",
       "  </thead>\n",
       "  <tbody>\n",
       "    <tr>\n",
       "      <th>id_reserva</th>\n",
       "      <td>0</td>\n",
       "      <td>0.00</td>\n",
       "      <td>object</td>\n",
       "    </tr>\n",
       "    <tr>\n",
       "      <th>id_cliente</th>\n",
       "      <td>0</td>\n",
       "      <td>0.00</td>\n",
       "      <td>object</td>\n",
       "    </tr>\n",
       "    <tr>\n",
       "      <th>nombre</th>\n",
       "      <td>0</td>\n",
       "      <td>0.00</td>\n",
       "      <td>object</td>\n",
       "    </tr>\n",
       "    <tr>\n",
       "      <th>apellido</th>\n",
       "      <td>0</td>\n",
       "      <td>0.00</td>\n",
       "      <td>object</td>\n",
       "    </tr>\n",
       "    <tr>\n",
       "      <th>mail</th>\n",
       "      <td>0</td>\n",
       "      <td>0.00</td>\n",
       "      <td>object</td>\n",
       "    </tr>\n",
       "    <tr>\n",
       "      <th>competencia</th>\n",
       "      <td>0</td>\n",
       "      <td>0.00</td>\n",
       "      <td>bool</td>\n",
       "    </tr>\n",
       "    <tr>\n",
       "      <th>fecha_reserva</th>\n",
       "      <td>0</td>\n",
       "      <td>0.00</td>\n",
       "      <td>object</td>\n",
       "    </tr>\n",
       "    <tr>\n",
       "      <th>inicio_estancia</th>\n",
       "      <td>75</td>\n",
       "      <td>0.50</td>\n",
       "      <td>object</td>\n",
       "    </tr>\n",
       "    <tr>\n",
       "      <th>final_estancia</th>\n",
       "      <td>75</td>\n",
       "      <td>0.50</td>\n",
       "      <td>object</td>\n",
       "    </tr>\n",
       "    <tr>\n",
       "      <th>id_hotel</th>\n",
       "      <td>0</td>\n",
       "      <td>0.00</td>\n",
       "      <td>int64</td>\n",
       "    </tr>\n",
       "    <tr>\n",
       "      <th>precio_noche</th>\n",
       "      <td>5224</td>\n",
       "      <td>34.60</td>\n",
       "      <td>float64</td>\n",
       "    </tr>\n",
       "    <tr>\n",
       "      <th>nombre_hotel</th>\n",
       "      <td>0</td>\n",
       "      <td>0.00</td>\n",
       "      <td>object</td>\n",
       "    </tr>\n",
       "    <tr>\n",
       "      <th>estrellas</th>\n",
       "      <td>5172</td>\n",
       "      <td>34.26</td>\n",
       "      <td>float64</td>\n",
       "    </tr>\n",
       "    <tr>\n",
       "      <th>ciudad</th>\n",
       "      <td>0</td>\n",
       "      <td>0.00</td>\n",
       "      <td>object</td>\n",
       "    </tr>\n",
       "  </tbody>\n",
       "</table>\n",
       "</div>"
      ],
      "text/plain": [
       "                 Numero_nulos  Porcentaje_nulos Tipo_dato\n",
       "id_reserva                  0              0.00    object\n",
       "id_cliente                  0              0.00    object\n",
       "nombre                      0              0.00    object\n",
       "apellido                    0              0.00    object\n",
       "mail                        0              0.00    object\n",
       "competencia                 0              0.00      bool\n",
       "fecha_reserva               0              0.00    object\n",
       "inicio_estancia            75              0.50    object\n",
       "final_estancia             75              0.50    object\n",
       "id_hotel                    0              0.00     int64\n",
       "precio_noche             5224             34.60   float64\n",
       "nombre_hotel                0              0.00    object\n",
       "estrellas                5172             34.26   float64\n",
       "ciudad                      0              0.00    object"
      ]
     },
     "execution_count": 7,
     "metadata": {},
     "output_type": "execute_result"
    }
   ],
   "source": [
    "# llama a la funcion aplicandola al dataframe \n",
    "info_reporte(df)"
   ]
  },
  {
   "cell_type": "code",
   "execution_count": 8,
   "metadata": {},
   "outputs": [
    {
     "data": {
      "text/plain": [
       "array([nan,  1.,  5.,  4.,  3.,  2.])"
      ]
     },
     "execution_count": 8,
     "metadata": {},
     "output_type": "execute_result"
    }
   ],
   "source": [
    "# saca los valores únicos de la columna estrellas\n",
    "df[\"estrellas\"].unique()"
   ]
  },
  {
   "cell_type": "markdown",
   "metadata": {},
   "source": [
    "- Tengo 15098 entradas y contamos con 14 columnas \n",
    "- En cuanto al tipo de dato de las columnas, ya se identifican determinadas columnas cuyo tipo de dato es incorrecto, concretamente las columnas de tipo datetime que están en tipo object. Es decir, fecha_reserva, inicio_estancia y final_estancia. El resto parecen estar correctamente. En cuanto a la columna de estrellas, se observa que cuenta con 5 valores únicos, es decir, no recoge números de estrellas que no sean enteros tipo 4.3, sino que solo dispone de los valores: 1,2,3,4,5, con lo que en principio debería estar en tipo integer. \n",
    "- Nos faltaría la columna de id_ciudad que va a ser creada en la carga de los datos, de la tabla ciudad, al ser una columna con id seriados. Por otro lado, nos falta la tabla entera de eventos con todas sus columnas (la vamos a obtener del escrapeo a través de la api).\n",
    "- Observación primera de nulos: Contamos con nulos en 4 columnas (inicio_estancia, final_estancia, precio_noche, estrellas)"
   ]
  },
  {
   "cell_type": "code",
   "execution_count": 9,
   "metadata": {},
   "outputs": [],
   "source": [
    "# convierte el tipo de dato de las 3 columnas de fecha en tipo datetime\n",
    "col_fechas = [\"fecha_reserva\", \"inicio_estancia\", \"final_estancia\"]\n",
    "for col in col_fechas:\n",
    "    df[col] = pd.to_datetime(df[col])"
   ]
  },
  {
   "cell_type": "code",
   "execution_count": 10,
   "metadata": {},
   "outputs": [],
   "source": [
    "# convierte la columna estrellas de tipo float a tipo integer \n",
    "df[\"estrellas\"] = df[\"estrellas\"].astype(\"Int64\")"
   ]
  },
  {
   "cell_type": "code",
   "execution_count": 11,
   "metadata": {},
   "outputs": [
    {
     "name": "stdout",
     "output_type": "stream",
     "text": [
      "<class 'pandas.core.frame.DataFrame'>\n",
      "RangeIndex: 15098 entries, 0 to 15097\n",
      "Data columns (total 14 columns):\n",
      " #   Column           Non-Null Count  Dtype         \n",
      "---  ------           --------------  -----         \n",
      " 0   id_reserva       15098 non-null  object        \n",
      " 1   id_cliente       15098 non-null  object        \n",
      " 2   nombre           15098 non-null  object        \n",
      " 3   apellido         15098 non-null  object        \n",
      " 4   mail             15098 non-null  object        \n",
      " 5   competencia      15098 non-null  bool          \n",
      " 6   fecha_reserva    9926 non-null   datetime64[ns]\n",
      " 7   inicio_estancia  15023 non-null  datetime64[ns]\n",
      " 8   final_estancia   15023 non-null  datetime64[ns]\n",
      " 9   id_hotel         15098 non-null  int64         \n",
      " 10  precio_noche     9874 non-null   float64       \n",
      " 11  nombre_hotel     15098 non-null  object        \n",
      " 12  estrellas        9926 non-null   Int64         \n",
      " 13  ciudad           15098 non-null  object        \n",
      "dtypes: Int64(1), bool(1), datetime64[ns](3), float64(1), int64(1), object(7)\n",
      "memory usage: 1.5+ MB\n"
     ]
    }
   ],
   "source": [
    "# comprueba que se han cambiado correctamente los tipos de dato de las columnas\n",
    "df.info()"
   ]
  },
  {
   "cell_type": "code",
   "execution_count": 12,
   "metadata": {},
   "outputs": [
    {
     "data": {
      "text/plain": [
       "np.int64(98)"
      ]
     },
     "execution_count": 12,
     "metadata": {},
     "output_type": "execute_result"
    }
   ],
   "source": [
    "# saca el numero de duplicados por todas las columnas que hay en el dataframe\n",
    "df.duplicated().sum()"
   ]
  },
  {
   "cell_type": "code",
   "execution_count": 13,
   "metadata": {},
   "outputs": [],
   "source": [
    "# elimina los duplicados por todas las columnas del dataframe \n",
    "df.drop_duplicates(inplace=True)"
   ]
  },
  {
   "cell_type": "code",
   "execution_count": 14,
   "metadata": {},
   "outputs": [
    {
     "data": {
      "text/plain": [
       "np.int64(0)"
      ]
     },
     "execution_count": 14,
     "metadata": {},
     "output_type": "execute_result"
    }
   ],
   "source": [
    "# comprueba si hay duplicados por la columna id_reserva\n",
    "df[\"id_reserva\"].duplicated().sum()"
   ]
  },
  {
   "cell_type": "code",
   "execution_count": 15,
   "metadata": {},
   "outputs": [
    {
     "data": {
      "text/plain": [
       "(15000, 14)"
      ]
     },
     "execution_count": 15,
     "metadata": {},
     "output_type": "execute_result"
    }
   ],
   "source": [
    "# saca la forma del dataframe tras haber eliminado duplicados\n",
    "df.shape"
   ]
  },
  {
   "cell_type": "markdown",
   "metadata": {},
   "source": [
    "En cuanto a los duplicados, contamos con 98 duplicados por todas las columnas. Es decir, reservas que están completamente repetidas. En este caso, las eliminamos del conjunto de datos  nos quedamos con 15000 reservas. Además, una vez eliminadas estas reservas es importante observar si por el campo \"id_reserva\" hay algún duplicado, y ¿por qué? pues porque id_reserva es el identificador único de cada reserva (cada registro) y no puede estar repetido. Comprobamos que no hay duplicados por este campo y por lo tanto, todas las reservas son únicas y estaría todo correcto. Por el resto de id como el id_cliente o el id_hotel no hay que comprobarlo ya que por estos campos sí pueden haber duplicados. Pueden haber clientes que hayan realizado más de una reserva o hoteles que hayan sido reservados en más de una ocasión."
   ]
  },
  {
   "cell_type": "markdown",
   "metadata": {},
   "source": [
    "En cuanto a los valores nulos, de primeras parecía que únicamente habían 4 columnas con valores nulos (inicio_estancia, final_estancia, precio_noche, estrellas), pero por lo que he observado en estos primeros vistazos sobre el conjunto de datos, las columnas fecha_reserva, nombre_hotel y ciudad también tienen valores faltantes, lo que ocurre es que son espacios en blanco y no se están contando como valores nulos porque pandas no lo está identificando así. Además, parece que los nulos tienen que ver con los hoteles de la competencia. Lo primero que voy a hacer es convertir esos espacios en blanco en valores nulos para hacer un recuento correcto de los mismos."
   ]
  },
  {
   "cell_type": "code",
   "execution_count": 16,
   "metadata": {},
   "outputs": [],
   "source": [
    "# reemplaza los valores en blanco por valores nulos \n",
    "col_blancos = [\"fecha_reserva\", \"nombre_hotel\", \"ciudad\"]\n",
    "for col in col_blancos:\n",
    "    df[col] = df[col].replace(\"\", np.nan)"
   ]
  },
  {
   "cell_type": "code",
   "execution_count": 17,
   "metadata": {},
   "outputs": [
    {
     "data": {
      "text/html": [
       "<div>\n",
       "<style scoped>\n",
       "    .dataframe tbody tr th:only-of-type {\n",
       "        vertical-align: middle;\n",
       "    }\n",
       "\n",
       "    .dataframe tbody tr th {\n",
       "        vertical-align: top;\n",
       "    }\n",
       "\n",
       "    .dataframe thead th {\n",
       "        text-align: right;\n",
       "    }\n",
       "</style>\n",
       "<table border=\"1\" class=\"dataframe\">\n",
       "  <thead>\n",
       "    <tr style=\"text-align: right;\">\n",
       "      <th></th>\n",
       "      <th>Numero_nulos</th>\n",
       "      <th>Porcentaje_nulos</th>\n",
       "      <th>Tipo_dato</th>\n",
       "    </tr>\n",
       "  </thead>\n",
       "  <tbody>\n",
       "    <tr>\n",
       "      <th>id_reserva</th>\n",
       "      <td>0</td>\n",
       "      <td>0.00</td>\n",
       "      <td>object</td>\n",
       "    </tr>\n",
       "    <tr>\n",
       "      <th>id_cliente</th>\n",
       "      <td>0</td>\n",
       "      <td>0.00</td>\n",
       "      <td>object</td>\n",
       "    </tr>\n",
       "    <tr>\n",
       "      <th>nombre</th>\n",
       "      <td>0</td>\n",
       "      <td>0.00</td>\n",
       "      <td>object</td>\n",
       "    </tr>\n",
       "    <tr>\n",
       "      <th>apellido</th>\n",
       "      <td>0</td>\n",
       "      <td>0.00</td>\n",
       "      <td>object</td>\n",
       "    </tr>\n",
       "    <tr>\n",
       "      <th>mail</th>\n",
       "      <td>0</td>\n",
       "      <td>0.00</td>\n",
       "      <td>object</td>\n",
       "    </tr>\n",
       "    <tr>\n",
       "      <th>competencia</th>\n",
       "      <td>0</td>\n",
       "      <td>0.00</td>\n",
       "      <td>bool</td>\n",
       "    </tr>\n",
       "    <tr>\n",
       "      <th>fecha_reserva</th>\n",
       "      <td>5172</td>\n",
       "      <td>34.48</td>\n",
       "      <td>datetime64[ns]</td>\n",
       "    </tr>\n",
       "    <tr>\n",
       "      <th>inicio_estancia</th>\n",
       "      <td>75</td>\n",
       "      <td>0.50</td>\n",
       "      <td>datetime64[ns]</td>\n",
       "    </tr>\n",
       "    <tr>\n",
       "      <th>final_estancia</th>\n",
       "      <td>75</td>\n",
       "      <td>0.50</td>\n",
       "      <td>datetime64[ns]</td>\n",
       "    </tr>\n",
       "    <tr>\n",
       "      <th>id_hotel</th>\n",
       "      <td>0</td>\n",
       "      <td>0.00</td>\n",
       "      <td>int64</td>\n",
       "    </tr>\n",
       "    <tr>\n",
       "      <th>precio_noche</th>\n",
       "      <td>5224</td>\n",
       "      <td>34.83</td>\n",
       "      <td>float64</td>\n",
       "    </tr>\n",
       "    <tr>\n",
       "      <th>nombre_hotel</th>\n",
       "      <td>5172</td>\n",
       "      <td>34.48</td>\n",
       "      <td>object</td>\n",
       "    </tr>\n",
       "    <tr>\n",
       "      <th>estrellas</th>\n",
       "      <td>5172</td>\n",
       "      <td>34.48</td>\n",
       "      <td>Int64</td>\n",
       "    </tr>\n",
       "    <tr>\n",
       "      <th>ciudad</th>\n",
       "      <td>5172</td>\n",
       "      <td>34.48</td>\n",
       "      <td>object</td>\n",
       "    </tr>\n",
       "  </tbody>\n",
       "</table>\n",
       "</div>"
      ],
      "text/plain": [
       "                 Numero_nulos  Porcentaje_nulos       Tipo_dato\n",
       "id_reserva                  0              0.00          object\n",
       "id_cliente                  0              0.00          object\n",
       "nombre                      0              0.00          object\n",
       "apellido                    0              0.00          object\n",
       "mail                        0              0.00          object\n",
       "competencia                 0              0.00            bool\n",
       "fecha_reserva            5172             34.48  datetime64[ns]\n",
       "inicio_estancia            75              0.50  datetime64[ns]\n",
       "final_estancia             75              0.50  datetime64[ns]\n",
       "id_hotel                    0              0.00           int64\n",
       "precio_noche             5224             34.83         float64\n",
       "nombre_hotel             5172             34.48          object\n",
       "estrellas                5172             34.48           Int64\n",
       "ciudad                   5172             34.48          object"
      ]
     },
     "execution_count": 17,
     "metadata": {},
     "output_type": "execute_result"
    }
   ],
   "source": [
    "# llama a la funcion reporte aplicandola al dataframe \n",
    "info_reporte(df)"
   ]
  },
  {
   "cell_type": "code",
   "execution_count": 18,
   "metadata": {},
   "outputs": [
    {
     "data": {
      "text/plain": [
       "5172"
      ]
     },
     "execution_count": 18,
     "metadata": {},
     "output_type": "execute_result"
    }
   ],
   "source": [
    "# recuento de hoteles de competencia \n",
    "df[df[\"competencia\"] == True].shape[0]"
   ]
  },
  {
   "cell_type": "markdown",
   "metadata": {},
   "source": [
    "Observamos como ahora ya si nos está sacando el recuento y el porcentaje de nulos de todas las columnas. De primeras ya es curioso que las columnas fecha_reserva, nombre_hotel, estrellas y ciudad tengan el mismo número de nulos, por lo de que parece que tienen relación con los hoteles de competencia. Y, efectivamente, coincide con el número de reservas que provienen de hoteles de la competencia (5172). Por lo tanto, algunas de ellas parecen que se van a sacar a través de web scraping, como la de nombre_hotel y la de estrellas. En el caso de la columna de ciudad no sería necesario web scraping, pues conocemos que los hoteles de la competencia también están ubicados en Madrid y, por lo tanto, podemos rellenar directamente con \"Madrid\"."
   ]
  },
  {
   "cell_type": "code",
   "execution_count": 19,
   "metadata": {},
   "outputs": [],
   "source": [
    "# reemplaza los nulos de la columna ciudad por \"Madrid\"\n",
    "df[\"ciudad\"] = df[\"ciudad\"].fillna(\"Madrid\")"
   ]
  },
  {
   "cell_type": "markdown",
   "metadata": {},
   "source": [
    "DUDA MARTES: y el dato de fecha de reserva como se saca? de donde y tal?"
   ]
  },
  {
   "cell_type": "code",
   "execution_count": 20,
   "metadata": {},
   "outputs": [
    {
     "data": {
      "text/plain": [
       "inicio_estancia    1\n",
       "final_estancia     1\n",
       "dtype: int64"
      ]
     },
     "execution_count": 20,
     "metadata": {},
     "output_type": "execute_result"
    }
   ],
   "source": [
    "# saca el numero de valores unicos de las columnas inicio_estancia y final_estancia\n",
    "df[[\"inicio_estancia\", \"final_estancia\"]].nunique()"
   ]
  },
  {
   "cell_type": "markdown",
   "metadata": {},
   "source": [
    "Por otro lado, en cuanto a las columnas de inicio_estancia y final_estancia, del primer vistazo de los datos, también he podido observar que por lo que parece, ambas disponen de un único valor, y además, lo he comprobado, y es así. Es decir, para todas las reservas, la fecha de inicio de la estancia es la misma, concretamente el 1 de marzo de 2025, y para todas las reservas la fecha de fin de estancia también es la misma, concretamente el 2 de marzo de 2025, es decir, se están recogiendo datos de reservas exclusivas de una estancia de 1 día, concretamente entre el 1 y el 2 de marzo. En este caso, los valores nulos de ambas columnas, que encima suponen un porcentaje ínfimo en cada una de ellas (0,5%) también pueden ser rellenados con las mismas fechas."
   ]
  },
  {
   "cell_type": "code",
   "execution_count": 21,
   "metadata": {},
   "outputs": [],
   "source": [
    "# rellena los valores nulos de las columnas inicio_estancia y final_estancia por la unica fecha existente en cada columna\n",
    "fechas_estancia = [\"inicio_estancia\", \"final_estancia\"]\n",
    "for col in fechas_estancia:\n",
    "    df[col] = df[col].fillna(df[col].dropna().unique()[0])"
   ]
  },
  {
   "cell_type": "markdown",
   "metadata": {},
   "source": [
    "Por último, la última columna que tiene nulos es el precio_noche. Hay nulos en esta columna para 52 reservas de hoteles propios, y el resto de nulos corresponden a todos los hoteles de la competencia, es decir, un dato igualmente a scrapear en el caso de los hoteles de la competencia. En el caso de los hoteles propios, hay que valorar como tratar estos 52 registros nulos."
   ]
  },
  {
   "cell_type": "code",
   "execution_count": 22,
   "metadata": {},
   "outputs": [
    {
     "name": "stdout",
     "output_type": "stream",
     "text": [
      "52\n",
      "5172\n"
     ]
    }
   ],
   "source": [
    "# saca el numero de reservas correspondientes con hoteles propios y con precio_noche nulo\n",
    "numero_reservas = df[(df[\"competencia\"] == False) & (df[\"precio_noche\"].isna())].shape[0]\n",
    "print(numero_reservas)\n",
    "numero_hoteles_competencia = df[df[\"precio_noche\"].isna()].shape[0] - numero_reservas\n",
    "print(numero_hoteles_competencia)"
   ]
  },
  {
   "cell_type": "code",
   "execution_count": 23,
   "metadata": {},
   "outputs": [
    {
     "data": {
      "text/plain": [
       "nombre_hotel\n",
       "Hotel Sol y Luna          5\n",
       "Hotel Torre Dorada        5\n",
       "Hotel Camino del Sol      4\n",
       "Hotel Mirador Real        4\n",
       "Hotel Las Estrellas       4\n",
       "Hotel Monte Verde         4\n",
       "Hotel Puerta del Cielo    3\n",
       "Hotel Encanto Real        3\n",
       "Palacio del Sol           3\n",
       "Gran Hotel Madrid         3\n",
       "Hotel Brisas del Mar      2\n",
       "Hotel Los Almendros       2\n",
       "Hotel Vista Alegre        2\n",
       "Hotel Rincón Sereno       2\n",
       "Hotel Costa Azul          2\n",
       "Hotel Luz de Madrid       1\n",
       "Hotel Jardines del Rey    1\n",
       "Hotel Palacio Imperial    1\n",
       "Hotel Maravilla Real      1\n",
       "Name: count, dtype: int64"
      ]
     },
     "execution_count": 23,
     "metadata": {},
     "output_type": "execute_result"
    }
   ],
   "source": [
    "# saca los hoteles y el numero de registros por cada hotel donde precio_noche es nulo\n",
    "df_nulos_precio = df[(df[\"competencia\"] == False) & (df[\"precio_noche\"].isna())]\n",
    "df_nulos_precio[\"nombre_hotel\"].value_counts()"
   ]
  },
  {
   "cell_type": "code",
   "execution_count": 24,
   "metadata": {},
   "outputs": [
    {
     "data": {
      "text/html": [
       "<div>\n",
       "<style scoped>\n",
       "    .dataframe tbody tr th:only-of-type {\n",
       "        vertical-align: middle;\n",
       "    }\n",
       "\n",
       "    .dataframe tbody tr th {\n",
       "        vertical-align: top;\n",
       "    }\n",
       "\n",
       "    .dataframe thead th {\n",
       "        text-align: right;\n",
       "    }\n",
       "</style>\n",
       "<table border=\"1\" class=\"dataframe\">\n",
       "  <thead>\n",
       "    <tr style=\"text-align: right;\">\n",
       "      <th></th>\n",
       "      <th>id_reserva</th>\n",
       "      <th>id_cliente</th>\n",
       "      <th>nombre</th>\n",
       "      <th>apellido</th>\n",
       "      <th>mail</th>\n",
       "      <th>competencia</th>\n",
       "      <th>fecha_reserva</th>\n",
       "      <th>inicio_estancia</th>\n",
       "      <th>final_estancia</th>\n",
       "      <th>id_hotel</th>\n",
       "      <th>precio_noche</th>\n",
       "      <th>nombre_hotel</th>\n",
       "      <th>estrellas</th>\n",
       "      <th>ciudad</th>\n",
       "    </tr>\n",
       "  </thead>\n",
       "  <tbody>\n",
       "    <tr>\n",
       "      <th>10852</th>\n",
       "      <td>9d81c242-8d3b-415a-9115-c1673c6f8db6</td>\n",
       "      <td>714ec908-2a27-427b-b86c-67470f4431e0</td>\n",
       "      <td>Quique</td>\n",
       "      <td>Arnaiz</td>\n",
       "      <td>quique.arnaiz@example.com</td>\n",
       "      <td>False</td>\n",
       "      <td>2025-02-03</td>\n",
       "      <td>2025-03-01</td>\n",
       "      <td>2025-03-02</td>\n",
       "      <td>36</td>\n",
       "      <td>486.91</td>\n",
       "      <td>Hotel Sol y Luna</td>\n",
       "      <td>4</td>\n",
       "      <td>Madrid</td>\n",
       "    </tr>\n",
       "    <tr>\n",
       "      <th>12316</th>\n",
       "      <td>4927ed01-391a-46c5-b6d5-92a423b060b9</td>\n",
       "      <td>c602f082-6ae3-4906-b730-85419dea850d</td>\n",
       "      <td>José Luis</td>\n",
       "      <td>Pascual</td>\n",
       "      <td>josé luis.pascual@example.com</td>\n",
       "      <td>False</td>\n",
       "      <td>2025-02-08</td>\n",
       "      <td>2025-03-01</td>\n",
       "      <td>2025-03-02</td>\n",
       "      <td>2</td>\n",
       "      <td>294.44</td>\n",
       "      <td>Hotel Sol y Luna</td>\n",
       "      <td>1</td>\n",
       "      <td>Madrid</td>\n",
       "    </tr>\n",
       "    <tr>\n",
       "      <th>12351</th>\n",
       "      <td>904d6d91-fd7b-4eda-9fe1-9cf6124d8a2f</td>\n",
       "      <td>a1d860ce-eedb-430a-8ccf-9ac5caaa7069</td>\n",
       "      <td>Estefanía</td>\n",
       "      <td>Balaguer</td>\n",
       "      <td>estefanía.balaguer@example.com</td>\n",
       "      <td>False</td>\n",
       "      <td>2025-02-02</td>\n",
       "      <td>2025-03-01</td>\n",
       "      <td>2025-03-02</td>\n",
       "      <td>40</td>\n",
       "      <td>97.49</td>\n",
       "      <td>Hotel Sol y Luna</td>\n",
       "      <td>2</td>\n",
       "      <td>Madrid</td>\n",
       "    </tr>\n",
       "    <tr>\n",
       "      <th>4832</th>\n",
       "      <td>07a86b9a-4f67-4d39-8142-2727c2f301d6</td>\n",
       "      <td>18c4b77d-c937-44ac-bdb7-b28a94c81703</td>\n",
       "      <td>Zoraida</td>\n",
       "      <td>Revilla</td>\n",
       "      <td>zoraida.revilla@example.com</td>\n",
       "      <td>False</td>\n",
       "      <td>2025-02-10</td>\n",
       "      <td>2025-03-01</td>\n",
       "      <td>2025-03-02</td>\n",
       "      <td>28</td>\n",
       "      <td>145.40</td>\n",
       "      <td>Hotel Sol y Luna</td>\n",
       "      <td>3</td>\n",
       "      <td>Madrid</td>\n",
       "    </tr>\n",
       "    <tr>\n",
       "      <th>1685</th>\n",
       "      <td>a7fdae10-ff26-48f1-92d9-5d257c4380bf</td>\n",
       "      <td>74efc341-0069-4e2e-99f1-0d825ac36dd4</td>\n",
       "      <td>Nerea</td>\n",
       "      <td>Rocha</td>\n",
       "      <td>nerea.rocha@example.com</td>\n",
       "      <td>False</td>\n",
       "      <td>2025-02-06</td>\n",
       "      <td>2025-03-01</td>\n",
       "      <td>2025-03-02</td>\n",
       "      <td>27</td>\n",
       "      <td>116.97</td>\n",
       "      <td>Hotel Sol y Luna</td>\n",
       "      <td>1</td>\n",
       "      <td>Madrid</td>\n",
       "    </tr>\n",
       "  </tbody>\n",
       "</table>\n",
       "</div>"
      ],
      "text/plain": [
       "                                 id_reserva  \\\n",
       "10852  9d81c242-8d3b-415a-9115-c1673c6f8db6   \n",
       "12316  4927ed01-391a-46c5-b6d5-92a423b060b9   \n",
       "12351  904d6d91-fd7b-4eda-9fe1-9cf6124d8a2f   \n",
       "4832   07a86b9a-4f67-4d39-8142-2727c2f301d6   \n",
       "1685   a7fdae10-ff26-48f1-92d9-5d257c4380bf   \n",
       "\n",
       "                                 id_cliente     nombre  apellido  \\\n",
       "10852  714ec908-2a27-427b-b86c-67470f4431e0     Quique    Arnaiz   \n",
       "12316  c602f082-6ae3-4906-b730-85419dea850d  José Luis   Pascual   \n",
       "12351  a1d860ce-eedb-430a-8ccf-9ac5caaa7069  Estefanía  Balaguer   \n",
       "4832   18c4b77d-c937-44ac-bdb7-b28a94c81703    Zoraida   Revilla   \n",
       "1685   74efc341-0069-4e2e-99f1-0d825ac36dd4      Nerea     Rocha   \n",
       "\n",
       "                                 mail  competencia fecha_reserva  \\\n",
       "10852       quique.arnaiz@example.com        False    2025-02-03   \n",
       "12316   josé luis.pascual@example.com        False    2025-02-08   \n",
       "12351  estefanía.balaguer@example.com        False    2025-02-02   \n",
       "4832      zoraida.revilla@example.com        False    2025-02-10   \n",
       "1685          nerea.rocha@example.com        False    2025-02-06   \n",
       "\n",
       "      inicio_estancia final_estancia  id_hotel  precio_noche  \\\n",
       "10852      2025-03-01     2025-03-02        36        486.91   \n",
       "12316      2025-03-01     2025-03-02         2        294.44   \n",
       "12351      2025-03-01     2025-03-02        40         97.49   \n",
       "4832       2025-03-01     2025-03-02        28        145.40   \n",
       "1685       2025-03-01     2025-03-02        27        116.97   \n",
       "\n",
       "           nombre_hotel  estrellas  ciudad  \n",
       "10852  Hotel Sol y Luna          4  Madrid  \n",
       "12316  Hotel Sol y Luna          1  Madrid  \n",
       "12351  Hotel Sol y Luna          2  Madrid  \n",
       "4832   Hotel Sol y Luna          3  Madrid  \n",
       "1685   Hotel Sol y Luna          1  Madrid  "
      ]
     },
     "execution_count": 24,
     "metadata": {},
     "output_type": "execute_result"
    }
   ],
   "source": [
    "# filtra por el hotel \"Hotel Sol y Luna\"\n",
    "df[df[\"nombre_hotel\"] == \"Hotel Sol y Luna\"].sample(5)"
   ]
  },
  {
   "cell_type": "markdown",
   "metadata": {},
   "source": [
    "Como se puede observar, para por ejemplo el Hotel Sol y Luna el precio_noche es diferente para cada reserva, pues al final aunque la estancia vaya a ser el mismo día, los precios van fluctuando por momentos, y si por ejemplo reservas con más antelación, probablemente pues el precio por noche será menor. Lo que se puede valorar es sustituir los pocos nulos que hay por cada hotel por la media o la mediana (en función de los outliers) de la columna precio_noche para cada hotel. "
   ]
  },
  {
   "cell_type": "markdown",
   "metadata": {},
   "source": [
    "DUDA MARTES: sacando esta informacion me he dado cuenta de que hay algo raro porque el Hotel Sol y Luna en Madrid que deberia ser el mismo claro, tiene para cada reserva un id_hotel diferente cuando deberia ser el mismo y también estrellas diferentes. ??????"
   ]
  },
  {
   "cell_type": "markdown",
   "metadata": {},
   "source": [
    "Outliers de la columna precio_noche"
   ]
  },
  {
   "cell_type": "code",
   "execution_count": 25,
   "metadata": {},
   "outputs": [
    {
     "data": {
      "text/plain": [
       "count    9776.000000\n",
       "mean      275.066498\n",
       "std       129.501317\n",
       "min        50.010000\n",
       "25%       163.062500\n",
       "50%       273.420000\n",
       "75%       387.810000\n",
       "max       499.820000\n",
       "Name: precio_noche, dtype: float64"
      ]
     },
     "execution_count": 25,
     "metadata": {},
     "output_type": "execute_result"
    }
   ],
   "source": [
    "# saca los estadisticos de precio_noche\n",
    "df[\"precio_noche\"].describe()"
   ]
  },
  {
   "cell_type": "code",
   "execution_count": 26,
   "metadata": {},
   "outputs": [
    {
     "data": {
      "text/plain": [
       "Text(0.5, 1.0, 'Histograma de Precio_noche')"
      ]
     },
     "execution_count": 26,
     "metadata": {},
     "output_type": "execute_result"
    },
    {
     "data": {
      "image/png": "[encoded data removed]",
      "text/plain": [
       "<Figure size 1000x500 with 1 Axes>"
      ]
     },
     "metadata": {},
     "output_type": "display_data"
    }
   ],
   "source": [
    "# para ver la distribucion de los datos\n",
    "plt.figure(figsize=(10,5))\n",
    "sns.histplot(df[\"precio_noche\"], \n",
    "             bins=80, \n",
    "             kde=True)\n",
    "plt.xlabel(\"precio_noche\")\n",
    "plt.ylabel(\"Frecuencia\")\n",
    "plt.title(\"Histograma de Precio_noche\")"
   ]
  },
  {
   "cell_type": "code",
   "execution_count": 27,
   "metadata": {},
   "outputs": [
    {
     "data": {
      "text/plain": [
       "'col_per_row = 3 # numero de columnas que voy a tener en mi subplot\\nnum_cols = len(df.columns) # numero de columnas en el dataframe \\nnum_rows = (num_cols // col_per_row) + (num_cols % col_per_row > 0) # ponemos las dos barras para que solo salgan los números enteros, sin decimales. # numero de subfilas que voy a tener en el subplot \\n\\nfig,axes = plt.subplots(nrows = num_rows,\\n                       ncols = col_per_row,\\n                       figsize = (10, 5 * num_rows)) # con el axes vamos a decidir como queremos que se establezcan las figuras, en este caso, como una matriz 2x5, de 2 columnas y 5 filas\\nfor i, col in enumerate(df.columns): # el enumerate irá iterando por cada columna, por cada indice de la columna y la columna\\n    row, col_idx = divmod(i, col_per_row) # devuelve una tupla a la que le entra un indice y lo divide por col_per_row, hace una division entera de los valores que le paso. En este caso se realiza \\n    sns.boxplot (y = df[col], ax = axes[row, col_idx])\\n    axes[row, col_idx].set_title(f\"Boxplot de {col}\")'"
      ]
     },
     "execution_count": 27,
     "metadata": {},
     "output_type": "execute_result"
    }
   ],
   "source": [
    "# saca el boxplot\n",
    "\"\"\"col_per_row = 3 # numero de columnas que voy a tener en mi subplot\n",
    "num_cols = len(df.columns) # numero de columnas en el dataframe \n",
    "num_rows = (num_cols // col_per_row) + (num_cols % col_per_row > 0) # ponemos las dos barras para que solo salgan los números enteros, sin decimales. # numero de subfilas que voy a tener en el subplot \n",
    "\n",
    "fig,axes = plt.subplots(nrows = num_rows,\n",
    "                       ncols = col_per_row,\n",
    "                       figsize = (10, 5 * num_rows)) # con el axes vamos a decidir como queremos que se establezcan las figuras, en este caso, como una matriz 2x5, de 2 columnas y 5 filas\n",
    "for i, col in enumerate(df.columns): # el enumerate irá iterando por cada columna, por cada indice de la columna y la columna\n",
    "    row, col_idx = divmod(i, col_per_row) # devuelve una tupla a la que le entra un indice y lo divide por col_per_row, hace una division entera de los valores que le paso. En este caso se realiza \n",
    "    sns.boxplot (y = df[col], ax = axes[row, col_idx])\n",
    "    axes[row, col_idx].set_title(f\"Boxplot de {col}\")\"\"\""
   ]
  },
  {
   "cell_type": "code",
   "execution_count": 28,
   "metadata": {},
   "outputs": [
    {
     "data": {
      "text/plain": [
       "'Q1 = df[\"ExitRates\"].quantile(0.25)\\nQ3 = df[\"ExitRates\"].quantile(0.75)\\nIQR = Q3 - Q1 # tamaño de la caja \\nlower_bound = Q1 - 1.5 * IQR\\nupper_bound = Q3 + 1.5 * IQR\\n\\noutliers = df[(df[\"ExitRates\"] < lower_bound) | (df[\"ExitRates\"] > upper_bound)]\\nnum_outliers = outliers.shape[0]\\npercent_outliers = round(((num_outliers / df.shape[0])*100), 2)\\npercent_outliers'"
      ]
     },
     "execution_count": 28,
     "metadata": {},
     "output_type": "execute_result"
    }
   ],
   "source": [
    "# rango intercuartilico\n",
    "\"\"\"Q1 = df[\"ExitRates\"].quantile(0.25)\n",
    "Q3 = df[\"ExitRates\"].quantile(0.75)\n",
    "IQR = Q3 - Q1 # tamaño de la caja \n",
    "lower_bound = Q1 - 1.5 * IQR\n",
    "upper_bound = Q3 + 1.5 * IQR\n",
    "\n",
    "outliers = df[(df[\"ExitRates\"] < lower_bound) | (df[\"ExitRates\"] > upper_bound)]\n",
    "num_outliers = outliers.shape[0]\n",
    "percent_outliers = round(((num_outliers / df.shape[0])*100), 2)\n",
    "percent_outliers\"\"\""
   ]
  },
  {
   "cell_type": "markdown",
   "metadata": {},
   "source": [
    "No puedo tener un id asociado para hoteles diferentes con nombres diferentes. Estamos diciendo que el nombre del id esta relacionado con el nombre hotel. Nombres unicos en la columna de nombre hotel: 19. Y tengo 29 id (19 de los propios y 10 de los de la competencia). El id se puede asignar de forma aleatoria pero para las estrellas no. Hay mala asignacion de id. Las estrellas en general se calculan con la media de las valoraciones de todos los clientes. Si aqui parece que las estrellas estan recogidas con reseñas de cada cliente lo que hay que hacer es la media para cada hotel. El precio se va a quedar tal cual porque esta bien porque aunque haya precios de noche diferentes por cada hotel unico pues es normal porque en el momento de la reserva una noche puede ser mas cara o mas barata osea fluctua y es normal. \n",
    "\n",
    "\n",
    "Tenemos una serie de nombres de clientes con id. Pueden haber varios clientes que se llamen igual y que tengan distinto id, pero no puede haber un mismo id de cliente asociado a dos clientes diferentes (si puede pasar porque por ejemplo si mi hermana desde su cuenta de airbnb coge una reserva a mi nombre para mi, voy a salir con el mismo id que mi hermana). cuando nos vayamos a una base de datos que tengamos tabla de clientes (id_cliente, nombre, correo). y no podemos tener el mismo id para nombres diferentes. entonces vamos a tener que solucionar eso (vamos a tener que crear un id aleatorio por el correo electronico, que es lo que va a ser unico, si mi hermana ha reservado para ella va a salir su correo y si ha reservado para mi saldrá el mio). Todo esto de asignar el id se puede hacer en el momento de la carga si puede ser seriado y ya esta o si no puede ser seriado pues lo incluyes en el dataframe final que vas a cargar."
   ]
  },
  {
   "cell_type": "markdown",
   "metadata": {},
   "source": [
    "con value counts "
   ]
  },
  {
   "cell_type": "code",
   "execution_count": 29,
   "metadata": {},
   "outputs": [
    {
     "data": {
      "text/plain": [
       "array([nan, 'Hotel Monte Verde', 'Hotel Brisas del Mar',\n",
       "       'Hotel Camino del Sol', 'Hotel Puerta del Cielo',\n",
       "       'Hotel Encanto Real', 'Palacio del Sol', 'Hotel Jardines del Rey',\n",
       "       'Hotel Las Estrellas', 'Gran Hotel Madrid', 'Hotel Torre Dorada',\n",
       "       'Hotel Palacio Imperial', 'Hotel Luz de Madrid',\n",
       "       'Hotel Los Almendros', 'Hotel Sol y Luna', 'Hotel Mirador Real',\n",
       "       'Hotel Rincón Sereno', 'Hotel Vista Alegre', 'Hotel Costa Azul',\n",
       "       'Hotel Maravilla Real'], dtype=object)"
      ]
     },
     "execution_count": 29,
     "metadata": {},
     "output_type": "execute_result"
    }
   ],
   "source": [
    "df[\"nombre_hotel\"].unique()"
   ]
  },
  {
   "cell_type": "code",
   "execution_count": 38,
   "metadata": {},
   "outputs": [
    {
     "data": {
      "text/plain": [
       "array(['feliciana.cantón@example.com', 'leonardo.hierro@example.com',\n",
       "       'maite.calatayud@example.com', ..., 'nadia.verdugo@example.com',\n",
       "       'custodia.marco@example.com', 'brígida.salom@example.com'],\n",
       "      shape=(14905,), dtype=object)"
      ]
     },
     "execution_count": 38,
     "metadata": {},
     "output_type": "execute_result"
    }
   ],
   "source": [
    "df[\"mail\"].unique()"
   ]
  },
  {
   "cell_type": "code",
   "execution_count": 36,
   "metadata": {},
   "outputs": [],
   "source": [
    "lista_hoteles_propios = ['Hotel Monte Verde', 'Hotel Brisas del Mar',\n",
    "       'Hotel Camino del Sol', 'Hotel Puerta del Cielo',\n",
    "       'Hotel Encanto Real', 'Palacio del Sol', 'Hotel Jardines del Rey',\n",
    "       'Hotel Las Estrellas', 'Gran Hotel Madrid', 'Hotel Torre Dorada',\n",
    "       'Hotel Palacio Imperial', 'Hotel Luz de Madrid',\n",
    "       'Hotel Los Almendros', 'Hotel Sol y Luna', 'Hotel Mirador Real',\n",
    "       'Hotel Rincón Sereno', 'Hotel Vista Alegre', 'Hotel Costa Azul',\n",
    "       'Hotel Maravilla Real']\n",
    "\n",
    "dicc_id_hoteles_propios = {}\n",
    "conteo = 1\n",
    "\n",
    "for hotel in lista_hoteles_propios:\n",
    "    dicc_id_hoteles_propios[hotel] = conteo \n",
    "    conteo = conteo + 1\n",
    "\n",
    "df[\"id_hotel\"] = df[\"nombre_hotel\"].map(dicc_id_hoteles_propios).astype(\"Int64\")"
   ]
  },
  {
   "cell_type": "code",
   "execution_count": null,
   "metadata": {},
   "outputs": [],
   "source": [
    "def id_seriados(columna, dataframe):\n",
    "    lista = dataframe[columna].unique()[1:]\n",
    "    "
   ]
  },
  {
   "cell_type": "code",
   "execution_count": 37,
   "metadata": {},
   "outputs": [
    {
     "data": {
      "text/html": [
       "<div>\n",
       "<style scoped>\n",
       "    .dataframe tbody tr th:only-of-type {\n",
       "        vertical-align: middle;\n",
       "    }\n",
       "\n",
       "    .dataframe tbody tr th {\n",
       "        vertical-align: top;\n",
       "    }\n",
       "\n",
       "    .dataframe thead th {\n",
       "        text-align: right;\n",
       "    }\n",
       "</style>\n",
       "<table border=\"1\" class=\"dataframe\">\n",
       "  <thead>\n",
       "    <tr style=\"text-align: right;\">\n",
       "      <th></th>\n",
       "      <th>id_reserva</th>\n",
       "      <th>id_cliente</th>\n",
       "      <th>nombre</th>\n",
       "      <th>apellido</th>\n",
       "      <th>mail</th>\n",
       "      <th>competencia</th>\n",
       "      <th>fecha_reserva</th>\n",
       "      <th>inicio_estancia</th>\n",
       "      <th>final_estancia</th>\n",
       "      <th>id_hotel</th>\n",
       "      <th>precio_noche</th>\n",
       "      <th>nombre_hotel</th>\n",
       "      <th>estrellas</th>\n",
       "      <th>ciudad</th>\n",
       "    </tr>\n",
       "  </thead>\n",
       "  <tbody>\n",
       "    <tr>\n",
       "      <th>0</th>\n",
       "      <td>5256cc90-139b-43d2-8ec5-412495d751cf</td>\n",
       "      <td>346f2a77-33f4-4b2d-82f3-e8501e21b28d</td>\n",
       "      <td>Feliciana</td>\n",
       "      <td>Cantón</td>\n",
       "      <td>feliciana.cantón@example.com</td>\n",
       "      <td>True</td>\n",
       "      <td>NaT</td>\n",
       "      <td>2025-03-01</td>\n",
       "      <td>2025-03-02</td>\n",
       "      <td>&lt;NA&gt;</td>\n",
       "      <td>NaN</td>\n",
       "      <td>NaN</td>\n",
       "      <td>&lt;NA&gt;</td>\n",
       "      <td>Madrid</td>\n",
       "    </tr>\n",
       "    <tr>\n",
       "      <th>1</th>\n",
       "      <td>84fd6209-bd8d-4a92-bfe6-c68ee2c49271</td>\n",
       "      <td>346f2a77-33f4-4b2d-82f3-e8501e21b28d</td>\n",
       "      <td>Leonardo</td>\n",
       "      <td>Hierro</td>\n",
       "      <td>leonardo.hierro@example.com</td>\n",
       "      <td>True</td>\n",
       "      <td>NaT</td>\n",
       "      <td>2025-03-01</td>\n",
       "      <td>2025-03-02</td>\n",
       "      <td>&lt;NA&gt;</td>\n",
       "      <td>NaN</td>\n",
       "      <td>NaN</td>\n",
       "      <td>&lt;NA&gt;</td>\n",
       "      <td>Madrid</td>\n",
       "    </tr>\n",
       "    <tr>\n",
       "      <th>2</th>\n",
       "      <td>40c4cb55-d1f5-407b-832f-4756b8ff77b4</td>\n",
       "      <td>6ec4d7d2-e382-47cc-94f6-c647577d4035</td>\n",
       "      <td>Maite</td>\n",
       "      <td>Calatayud</td>\n",
       "      <td>maite.calatayud@example.com</td>\n",
       "      <td>False</td>\n",
       "      <td>2025-02-09</td>\n",
       "      <td>2025-03-01</td>\n",
       "      <td>2025-03-02</td>\n",
       "      <td>1</td>\n",
       "      <td>119.96</td>\n",
       "      <td>Hotel Monte Verde</td>\n",
       "      <td>1</td>\n",
       "      <td>Madrid</td>\n",
       "    </tr>\n",
       "    <tr>\n",
       "      <th>3</th>\n",
       "      <td>f2ce8df5-7844-43e1-8c0f-97ce7a208f21</td>\n",
       "      <td>aed17fe8-eb18-4f69-bf08-df1afdc339c3</td>\n",
       "      <td>Tecla</td>\n",
       "      <td>Bonet</td>\n",
       "      <td>tecla.bonet@example.com</td>\n",
       "      <td>False</td>\n",
       "      <td>2025-02-08</td>\n",
       "      <td>2025-03-01</td>\n",
       "      <td>2025-03-02</td>\n",
       "      <td>2</td>\n",
       "      <td>211.53</td>\n",
       "      <td>Hotel Brisas del Mar</td>\n",
       "      <td>5</td>\n",
       "      <td>Madrid</td>\n",
       "    </tr>\n",
       "    <tr>\n",
       "      <th>4</th>\n",
       "      <td>57d4515a-447d-4067-afcb-9bdcf4e4e915</td>\n",
       "      <td>710a2fbb-264f-426a-aa66-f8fffd146a2d</td>\n",
       "      <td>Amílcar</td>\n",
       "      <td>Andrés</td>\n",
       "      <td>amílcar.andrés@example.com</td>\n",
       "      <td>False</td>\n",
       "      <td>2025-02-02</td>\n",
       "      <td>2025-03-01</td>\n",
       "      <td>2025-03-02</td>\n",
       "      <td>3</td>\n",
       "      <td>378.37</td>\n",
       "      <td>Hotel Camino del Sol</td>\n",
       "      <td>1</td>\n",
       "      <td>Madrid</td>\n",
       "    </tr>\n",
       "  </tbody>\n",
       "</table>\n",
       "</div>"
      ],
      "text/plain": [
       "                             id_reserva                            id_cliente  \\\n",
       "0  5256cc90-139b-43d2-8ec5-412495d751cf  346f2a77-33f4-4b2d-82f3-e8501e21b28d   \n",
       "1  84fd6209-bd8d-4a92-bfe6-c68ee2c49271  346f2a77-33f4-4b2d-82f3-e8501e21b28d   \n",
       "2  40c4cb55-d1f5-407b-832f-4756b8ff77b4  6ec4d7d2-e382-47cc-94f6-c647577d4035   \n",
       "3  f2ce8df5-7844-43e1-8c0f-97ce7a208f21  aed17fe8-eb18-4f69-bf08-df1afdc339c3   \n",
       "4  57d4515a-447d-4067-afcb-9bdcf4e4e915  710a2fbb-264f-426a-aa66-f8fffd146a2d   \n",
       "\n",
       "      nombre   apellido                          mail  competencia  \\\n",
       "0  Feliciana     Cantón  feliciana.cantón@example.com         True   \n",
       "1   Leonardo     Hierro   leonardo.hierro@example.com         True   \n",
       "2      Maite  Calatayud   maite.calatayud@example.com        False   \n",
       "3      Tecla      Bonet       tecla.bonet@example.com        False   \n",
       "4    Amílcar     Andrés    amílcar.andrés@example.com        False   \n",
       "\n",
       "  fecha_reserva inicio_estancia final_estancia  id_hotel  precio_noche  \\\n",
       "0           NaT      2025-03-01     2025-03-02      <NA>           NaN   \n",
       "1           NaT      2025-03-01     2025-03-02      <NA>           NaN   \n",
       "2    2025-02-09      2025-03-01     2025-03-02         1        119.96   \n",
       "3    2025-02-08      2025-03-01     2025-03-02         2        211.53   \n",
       "4    2025-02-02      2025-03-01     2025-03-02         3        378.37   \n",
       "\n",
       "           nombre_hotel  estrellas  ciudad  \n",
       "0                   NaN       <NA>  Madrid  \n",
       "1                   NaN       <NA>  Madrid  \n",
       "2     Hotel Monte Verde          1  Madrid  \n",
       "3  Hotel Brisas del Mar          5  Madrid  \n",
       "4  Hotel Camino del Sol          1  Madrid  "
      ]
     },
     "execution_count": 37,
     "metadata": {},
     "output_type": "execute_result"
    }
   ],
   "source": [
    "df.head()"
   ]
  }
 ],
 "metadata": {
  "kernelspec": {
   "display_name": "venv",
   "language": "python",
   "name": "python3"
  },
  "language_info": {
   "codemirror_mode": {
    "name": "ipython",
    "version": 3
   },
   "file_extension": ".py",
   "mimetype": "text/x-python",
   "name": "python",
   "nbconvert_exporter": "python",
   "pygments_lexer": "ipython3",
   "version": "3.13.0"
  }
 },
 "nbformat": 4,
 "nbformat_minor": 2
}
