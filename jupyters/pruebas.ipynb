{
 "cells": [
  {
   "cell_type": "code",
   "execution_count": 487,
   "metadata": {},
   "outputs": [],
   "source": [
    "# importa las librerias necesarias \n",
    "import pandas as pd\n",
    "import numpy as np\n",
    "import pyarrow as pa"
   ]
  },
  {
   "cell_type": "code",
   "execution_count": 515,
   "metadata": {},
   "outputs": [
    {
     "data": {
      "text/html": [
       "<div>\n",
       "<style scoped>\n",
       "    .dataframe tbody tr th:only-of-type {\n",
       "        vertical-align: middle;\n",
       "    }\n",
       "\n",
       "    .dataframe tbody tr th {\n",
       "        vertical-align: top;\n",
       "    }\n",
       "\n",
       "    .dataframe thead th {\n",
       "        text-align: right;\n",
       "    }\n",
       "</style>\n",
       "<table border=\"1\" class=\"dataframe\">\n",
       "  <thead>\n",
       "    <tr style=\"text-align: right;\">\n",
       "      <th></th>\n",
       "      <th>id_reserva</th>\n",
       "      <th>id_cliente</th>\n",
       "      <th>nombre</th>\n",
       "      <th>apellido</th>\n",
       "      <th>mail</th>\n",
       "      <th>competencia</th>\n",
       "      <th>fecha_reserva</th>\n",
       "      <th>inicio_estancia</th>\n",
       "      <th>final_estancia</th>\n",
       "      <th>id_hotel</th>\n",
       "      <th>precio_noche</th>\n",
       "      <th>nombre_hotel</th>\n",
       "      <th>estrellas</th>\n",
       "      <th>ciudad</th>\n",
       "    </tr>\n",
       "  </thead>\n",
       "  <tbody>\n",
       "    <tr>\n",
       "      <th>9983</th>\n",
       "      <td>e2014df8-187f-4ee8-bd15-7b0b57aac983</td>\n",
       "      <td>f91707af-c4ef-414b-984e-3bf73ccdce5a</td>\n",
       "      <td>Laura</td>\n",
       "      <td>Grande</td>\n",
       "      <td>laura.grande@example.com</td>\n",
       "      <td>True</td>\n",
       "      <td></td>\n",
       "      <td>2025-03-01</td>\n",
       "      <td>2025-03-02</td>\n",
       "      <td>103</td>\n",
       "      <td>NaN</td>\n",
       "      <td></td>\n",
       "      <td>NaN</td>\n",
       "      <td></td>\n",
       "    </tr>\n",
       "    <tr>\n",
       "      <th>1870</th>\n",
       "      <td>8d7ecf9a-0cc9-42bc-88c9-3d41f799d1e1</td>\n",
       "      <td>de30d057-73d2-4731-9590-7274ff829274</td>\n",
       "      <td>Evelia</td>\n",
       "      <td>Piñeiro</td>\n",
       "      <td>evelia.piñeiro@example.com</td>\n",
       "      <td>False</td>\n",
       "      <td>2025-02-01</td>\n",
       "      <td>2025-03-01</td>\n",
       "      <td>2025-03-02</td>\n",
       "      <td>38</td>\n",
       "      <td>259.65</td>\n",
       "      <td>Hotel Maravilla Real</td>\n",
       "      <td>2.0</td>\n",
       "      <td>Madrid</td>\n",
       "    </tr>\n",
       "    <tr>\n",
       "      <th>14008</th>\n",
       "      <td>b9cce0c2-19a9-49e8-961f-08d039ee3fb3</td>\n",
       "      <td>25ada371-e5f4-4158-ac3f-e84ba21a2366</td>\n",
       "      <td>Dorotea</td>\n",
       "      <td>Olivares</td>\n",
       "      <td>dorotea.olivares@example.com</td>\n",
       "      <td>False</td>\n",
       "      <td>2025-02-09</td>\n",
       "      <td>2025-03-01</td>\n",
       "      <td>2025-03-02</td>\n",
       "      <td>19</td>\n",
       "      <td>423.39</td>\n",
       "      <td>Hotel Camino del Sol</td>\n",
       "      <td>2.0</td>\n",
       "      <td>Madrid</td>\n",
       "    </tr>\n",
       "    <tr>\n",
       "      <th>4061</th>\n",
       "      <td>83e525b7-7996-4490-b476-c2cd569967a4</td>\n",
       "      <td>03efeff2-4993-43d2-8cd5-64317d345123</td>\n",
       "      <td>Vilma</td>\n",
       "      <td>Jáuregui</td>\n",
       "      <td>vilma.jáuregui@example.com</td>\n",
       "      <td>True</td>\n",
       "      <td></td>\n",
       "      <td>2025-03-01</td>\n",
       "      <td>2025-03-02</td>\n",
       "      <td>135</td>\n",
       "      <td>NaN</td>\n",
       "      <td></td>\n",
       "      <td>NaN</td>\n",
       "      <td></td>\n",
       "    </tr>\n",
       "    <tr>\n",
       "      <th>296</th>\n",
       "      <td>d078f387-4fca-40d7-b775-36b08e2d5d08</td>\n",
       "      <td>ddab46ca-d583-4304-aa54-1fd36e1fe433</td>\n",
       "      <td>Joaquina</td>\n",
       "      <td>Valbuena</td>\n",
       "      <td>joaquina.valbuena@example.com</td>\n",
       "      <td>False</td>\n",
       "      <td>2025-02-04</td>\n",
       "      <td>2025-03-01</td>\n",
       "      <td>2025-03-02</td>\n",
       "      <td>36</td>\n",
       "      <td>174.14</td>\n",
       "      <td>Palacio del Sol</td>\n",
       "      <td>4.0</td>\n",
       "      <td>Madrid</td>\n",
       "    </tr>\n",
       "  </tbody>\n",
       "</table>\n",
       "</div>"
      ],
      "text/plain": [
       "                                 id_reserva  \\\n",
       "9983   e2014df8-187f-4ee8-bd15-7b0b57aac983   \n",
       "1870   8d7ecf9a-0cc9-42bc-88c9-3d41f799d1e1   \n",
       "14008  b9cce0c2-19a9-49e8-961f-08d039ee3fb3   \n",
       "4061   83e525b7-7996-4490-b476-c2cd569967a4   \n",
       "296    d078f387-4fca-40d7-b775-36b08e2d5d08   \n",
       "\n",
       "                                 id_cliente    nombre  apellido  \\\n",
       "9983   f91707af-c4ef-414b-984e-3bf73ccdce5a     Laura    Grande   \n",
       "1870   de30d057-73d2-4731-9590-7274ff829274    Evelia   Piñeiro   \n",
       "14008  25ada371-e5f4-4158-ac3f-e84ba21a2366   Dorotea  Olivares   \n",
       "4061   03efeff2-4993-43d2-8cd5-64317d345123     Vilma  Jáuregui   \n",
       "296    ddab46ca-d583-4304-aa54-1fd36e1fe433  Joaquina  Valbuena   \n",
       "\n",
       "                                mail  competencia fecha_reserva  \\\n",
       "9983        laura.grande@example.com         True                 \n",
       "1870      evelia.piñeiro@example.com        False    2025-02-01   \n",
       "14008   dorotea.olivares@example.com        False    2025-02-09   \n",
       "4061      vilma.jáuregui@example.com         True                 \n",
       "296    joaquina.valbuena@example.com        False    2025-02-04   \n",
       "\n",
       "      inicio_estancia final_estancia  id_hotel  precio_noche  \\\n",
       "9983       2025-03-01     2025-03-02       103           NaN   \n",
       "1870       2025-03-01     2025-03-02        38        259.65   \n",
       "14008      2025-03-01     2025-03-02        19        423.39   \n",
       "4061       2025-03-01     2025-03-02       135           NaN   \n",
       "296        2025-03-01     2025-03-02        36        174.14   \n",
       "\n",
       "               nombre_hotel  estrellas  ciudad  \n",
       "9983                               NaN          \n",
       "1870   Hotel Maravilla Real        2.0  Madrid  \n",
       "14008  Hotel Camino del Sol        2.0  Madrid  \n",
       "4061                               NaN          \n",
       "296         Palacio del Sol        4.0  Madrid  "
      ]
     },
     "execution_count": 515,
     "metadata": {},
     "output_type": "execute_result"
    }
   ],
   "source": [
    "# lee el archivo parquet \n",
    "df_raw = pd.read_parquet(\"../data/reservas_hoteles.parquet\")\n",
    "df_raw.sample(5)"
   ]
  },
  {
   "cell_type": "code",
   "execution_count": 489,
   "metadata": {},
   "outputs": [],
   "source": [
    "# realiza una copia del archivo original\n",
    "df = df_raw.copy()"
   ]
  },
  {
   "cell_type": "code",
   "execution_count": 490,
   "metadata": {},
   "outputs": [
    {
     "data": {
      "text/plain": [
       "(15098, 14)"
      ]
     },
     "execution_count": 490,
     "metadata": {},
     "output_type": "execute_result"
    }
   ],
   "source": [
    "# saca la forma del dataframe\n",
    "df.shape"
   ]
  },
  {
   "cell_type": "code",
   "execution_count": 491,
   "metadata": {},
   "outputs": [],
   "source": [
    "# crea una funcion que genera un reporte con informacion de nulos y tipo de dato de cada una de las columnas \n",
    "def info_reporte(dataframe):\n",
    "    df_report = pd.DataFrame()\n",
    "    df_report[\"Numero_nulos\"] = dataframe.isnull().sum()\n",
    "    df_report[\"Porcentaje_nulos\"] = round((dataframe.isnull().sum()/dataframe.shape[0]*100), 2)\n",
    "    df_report[\"Tipo_dato\"] = dataframe.dtypes\n",
    "    return df_report"
   ]
  },
  {
   "cell_type": "code",
   "execution_count": 492,
   "metadata": {},
   "outputs": [
    {
     "data": {
      "text/html": [
       "<div>\n",
       "<style scoped>\n",
       "    .dataframe tbody tr th:only-of-type {\n",
       "        vertical-align: middle;\n",
       "    }\n",
       "\n",
       "    .dataframe tbody tr th {\n",
       "        vertical-align: top;\n",
       "    }\n",
       "\n",
       "    .dataframe thead th {\n",
       "        text-align: right;\n",
       "    }\n",
       "</style>\n",
       "<table border=\"1\" class=\"dataframe\">\n",
       "  <thead>\n",
       "    <tr style=\"text-align: right;\">\n",
       "      <th></th>\n",
       "      <th>Numero_nulos</th>\n",
       "      <th>Porcentaje_nulos</th>\n",
       "      <th>Tipo_dato</th>\n",
       "    </tr>\n",
       "  </thead>\n",
       "  <tbody>\n",
       "    <tr>\n",
       "      <th>id_reserva</th>\n",
       "      <td>0</td>\n",
       "      <td>0.00</td>\n",
       "      <td>object</td>\n",
       "    </tr>\n",
       "    <tr>\n",
       "      <th>id_cliente</th>\n",
       "      <td>0</td>\n",
       "      <td>0.00</td>\n",
       "      <td>object</td>\n",
       "    </tr>\n",
       "    <tr>\n",
       "      <th>nombre</th>\n",
       "      <td>0</td>\n",
       "      <td>0.00</td>\n",
       "      <td>object</td>\n",
       "    </tr>\n",
       "    <tr>\n",
       "      <th>apellido</th>\n",
       "      <td>0</td>\n",
       "      <td>0.00</td>\n",
       "      <td>object</td>\n",
       "    </tr>\n",
       "    <tr>\n",
       "      <th>mail</th>\n",
       "      <td>0</td>\n",
       "      <td>0.00</td>\n",
       "      <td>object</td>\n",
       "    </tr>\n",
       "    <tr>\n",
       "      <th>competencia</th>\n",
       "      <td>0</td>\n",
       "      <td>0.00</td>\n",
       "      <td>bool</td>\n",
       "    </tr>\n",
       "    <tr>\n",
       "      <th>fecha_reserva</th>\n",
       "      <td>0</td>\n",
       "      <td>0.00</td>\n",
       "      <td>object</td>\n",
       "    </tr>\n",
       "    <tr>\n",
       "      <th>inicio_estancia</th>\n",
       "      <td>75</td>\n",
       "      <td>0.50</td>\n",
       "      <td>object</td>\n",
       "    </tr>\n",
       "    <tr>\n",
       "      <th>final_estancia</th>\n",
       "      <td>75</td>\n",
       "      <td>0.50</td>\n",
       "      <td>object</td>\n",
       "    </tr>\n",
       "    <tr>\n",
       "      <th>id_hotel</th>\n",
       "      <td>0</td>\n",
       "      <td>0.00</td>\n",
       "      <td>int64</td>\n",
       "    </tr>\n",
       "    <tr>\n",
       "      <th>precio_noche</th>\n",
       "      <td>5224</td>\n",
       "      <td>34.60</td>\n",
       "      <td>float64</td>\n",
       "    </tr>\n",
       "    <tr>\n",
       "      <th>nombre_hotel</th>\n",
       "      <td>0</td>\n",
       "      <td>0.00</td>\n",
       "      <td>object</td>\n",
       "    </tr>\n",
       "    <tr>\n",
       "      <th>estrellas</th>\n",
       "      <td>5172</td>\n",
       "      <td>34.26</td>\n",
       "      <td>float64</td>\n",
       "    </tr>\n",
       "    <tr>\n",
       "      <th>ciudad</th>\n",
       "      <td>0</td>\n",
       "      <td>0.00</td>\n",
       "      <td>object</td>\n",
       "    </tr>\n",
       "  </tbody>\n",
       "</table>\n",
       "</div>"
      ],
      "text/plain": [
       "                 Numero_nulos  Porcentaje_nulos Tipo_dato\n",
       "id_reserva                  0              0.00    object\n",
       "id_cliente                  0              0.00    object\n",
       "nombre                      0              0.00    object\n",
       "apellido                    0              0.00    object\n",
       "mail                        0              0.00    object\n",
       "competencia                 0              0.00      bool\n",
       "fecha_reserva               0              0.00    object\n",
       "inicio_estancia            75              0.50    object\n",
       "final_estancia             75              0.50    object\n",
       "id_hotel                    0              0.00     int64\n",
       "precio_noche             5224             34.60   float64\n",
       "nombre_hotel                0              0.00    object\n",
       "estrellas                5172             34.26   float64\n",
       "ciudad                      0              0.00    object"
      ]
     },
     "execution_count": 492,
     "metadata": {},
     "output_type": "execute_result"
    }
   ],
   "source": [
    "# llama a la funcion aplicandola al dataframe \n",
    "info_reporte(df)"
   ]
  },
  {
   "cell_type": "code",
   "execution_count": 493,
   "metadata": {},
   "outputs": [
    {
     "data": {
      "text/plain": [
       "array([nan,  1.,  5.,  4.,  3.,  2.])"
      ]
     },
     "execution_count": 493,
     "metadata": {},
     "output_type": "execute_result"
    }
   ],
   "source": [
    "# saca los valores únicos de la columna estrellas\n",
    "df[\"estrellas\"].unique()"
   ]
  },
  {
   "cell_type": "markdown",
   "metadata": {},
   "source": [
    "- Tengo 15098 entradas y contamos con 14 columnas \n",
    "- En cuanto al tipo de dato de las columnas, ya se identifican determinadas columnas cuyo tipo de dato es incorrecto, concretamente las columnas de tipo datetime que están en tipo object. Es decir, fecha_reserva, inicio_estancia y final_estancia. El resto parecen estar correctamente. En cuanto a la columna de estrellas, se observa que cuenta con 5 valores únicos, es decir, no recoge números de estrellas que no sean enteros tipo 4.3, sino que solo dispone de los valores: 1,2,3,4,5, con lo que en principio debería estar en tipo integer.\n",
    "- En un principio, en función de como he planteado una primera estructuración de la BBDD, la única columna faltante sería de la id_ciudad que se generaría al crear la tabla Ciudades. \n",
    "- Observación primera de nulos: Contamos con nulos en 4 columnas (inicio_estancia, final_estancia, precio_noche, estrellas)"
   ]
  },
  {
   "cell_type": "code",
   "execution_count": 494,
   "metadata": {},
   "outputs": [],
   "source": [
    "# convierte el tipo de dato de las 3 columnas de fecha en tipo datetime\n",
    "col_fechas = [\"fecha_reserva\", \"inicio_estancia\", \"final_estancia\"]\n",
    "for col in col_fechas:\n",
    "    df[col] = pd.to_datetime(df[col])"
   ]
  },
  {
   "cell_type": "code",
   "execution_count": 495,
   "metadata": {},
   "outputs": [],
   "source": [
    "# convierte la columna estrellas de tipo float a tipo integer \n",
    "df[\"estrellas\"] = df[\"estrellas\"].astype(\"Int64\")"
   ]
  },
  {
   "cell_type": "code",
   "execution_count": 496,
   "metadata": {},
   "outputs": [
    {
     "name": "stdout",
     "output_type": "stream",
     "text": [
      "<class 'pandas.core.frame.DataFrame'>\n",
      "RangeIndex: 15098 entries, 0 to 15097\n",
      "Data columns (total 14 columns):\n",
      " #   Column           Non-Null Count  Dtype         \n",
      "---  ------           --------------  -----         \n",
      " 0   id_reserva       15098 non-null  object        \n",
      " 1   id_cliente       15098 non-null  object        \n",
      " 2   nombre           15098 non-null  object        \n",
      " 3   apellido         15098 non-null  object        \n",
      " 4   mail             15098 non-null  object        \n",
      " 5   competencia      15098 non-null  bool          \n",
      " 6   fecha_reserva    9926 non-null   datetime64[ns]\n",
      " 7   inicio_estancia  15023 non-null  datetime64[ns]\n",
      " 8   final_estancia   15023 non-null  datetime64[ns]\n",
      " 9   id_hotel         15098 non-null  int64         \n",
      " 10  precio_noche     9874 non-null   float64       \n",
      " 11  nombre_hotel     15098 non-null  object        \n",
      " 12  estrellas        9926 non-null   Int64         \n",
      " 13  ciudad           15098 non-null  object        \n",
      "dtypes: Int64(1), bool(1), datetime64[ns](3), float64(1), int64(1), object(7)\n",
      "memory usage: 1.5+ MB\n"
     ]
    }
   ],
   "source": [
    "# comprueba que se han cambiado correctamente los tipos de dato de las columnas\n",
    "df.info()"
   ]
  },
  {
   "cell_type": "code",
   "execution_count": 497,
   "metadata": {},
   "outputs": [
    {
     "data": {
      "text/plain": [
       "np.int64(98)"
      ]
     },
     "execution_count": 497,
     "metadata": {},
     "output_type": "execute_result"
    }
   ],
   "source": [
    "# saca el numero de duplicados por todas las columnas que hay en el dataframe\n",
    "df.duplicated().sum()"
   ]
  },
  {
   "cell_type": "code",
   "execution_count": 498,
   "metadata": {},
   "outputs": [],
   "source": [
    "# elimina los duplicados por todas las columnas del dataframe \n",
    "df.drop_duplicates(inplace=True)"
   ]
  },
  {
   "cell_type": "code",
   "execution_count": 499,
   "metadata": {},
   "outputs": [
    {
     "data": {
      "text/plain": [
       "np.int64(0)"
      ]
     },
     "execution_count": 499,
     "metadata": {},
     "output_type": "execute_result"
    }
   ],
   "source": [
    "# comprueba si hay duplicados por la columna id_reserva\n",
    "df[\"id_reserva\"].duplicated().sum()"
   ]
  },
  {
   "cell_type": "code",
   "execution_count": 500,
   "metadata": {},
   "outputs": [
    {
     "data": {
      "text/plain": [
       "(15000, 14)"
      ]
     },
     "execution_count": 500,
     "metadata": {},
     "output_type": "execute_result"
    }
   ],
   "source": [
    "# saca la forma del dataframe tras haber eliminado duplicados\n",
    "df.shape"
   ]
  },
  {
   "cell_type": "markdown",
   "metadata": {},
   "source": [
    "En cuanto a los duplicados, contamos con 98 duplicados por todas las columnas. Es decir, reservas que están completamente repetidas. En este caso, las eliminamos del conjunto de datos  nos quedamos con 15000 reservas. Además, una vez eliminadas estas reservas es importante observar si por el campo \"id_reserva\" hay algún duplicado, y ¿por qué? pues porque id_reserva es el identificador único de cada reserva (cada registro) y no puede estar repetido. Comprobamos que no hay duplicados por este campo y por lo tanto, todas las reservas son únicas y estaría todo correcto. Por el resto de id como el id_cliente o el id_hotel no hay que comprobarlo ya que por estos campos sí pueden haber duplicados. Pueden haber clientes que hayan realizado más de una reserva o hoteles que hayan sido reservados en más de una ocasión."
   ]
  },
  {
   "cell_type": "markdown",
   "metadata": {},
   "source": [
    "En cuanto a los valores nulos, de primeras parecía que únicamente habían 4 columnas con valores nulos (inicio_estancia, final_estancia, precio_noche, estrellas), pero por lo que he observado en estos primeros vistazos sobre el conjunto de datos, las columnas fecha_reserva, nombre_hotel y ciudad también tienen valores faltantes, lo que ocurre es que son espacios en blanco y no se están contando como valores nulos porque pandas no lo está identificando así. Además, parece que los nulos tienen que ver con los hoteles de la competencia. Lo primero que voy a hacer es convertir esos espacios en blanco en valores nulos para hacer un recuento correcto de los mismos."
   ]
  },
  {
   "cell_type": "code",
   "execution_count": 501,
   "metadata": {},
   "outputs": [],
   "source": [
    "# reemplaza los valores en blanco por valores nulos \n",
    "col_blancos = [\"fecha_reserva\", \"nombre_hotel\", \"ciudad\"]\n",
    "for col in col_blancos:\n",
    "    df[col] = df[col].replace(\"\", np.nan)"
   ]
  },
  {
   "cell_type": "code",
   "execution_count": 502,
   "metadata": {},
   "outputs": [
    {
     "data": {
      "text/html": [
       "<div>\n",
       "<style scoped>\n",
       "    .dataframe tbody tr th:only-of-type {\n",
       "        vertical-align: middle;\n",
       "    }\n",
       "\n",
       "    .dataframe tbody tr th {\n",
       "        vertical-align: top;\n",
       "    }\n",
       "\n",
       "    .dataframe thead th {\n",
       "        text-align: right;\n",
       "    }\n",
       "</style>\n",
       "<table border=\"1\" class=\"dataframe\">\n",
       "  <thead>\n",
       "    <tr style=\"text-align: right;\">\n",
       "      <th></th>\n",
       "      <th>Numero_nulos</th>\n",
       "      <th>Porcentaje_nulos</th>\n",
       "      <th>Tipo_dato</th>\n",
       "    </tr>\n",
       "  </thead>\n",
       "  <tbody>\n",
       "    <tr>\n",
       "      <th>id_reserva</th>\n",
       "      <td>0</td>\n",
       "      <td>0.00</td>\n",
       "      <td>object</td>\n",
       "    </tr>\n",
       "    <tr>\n",
       "      <th>id_cliente</th>\n",
       "      <td>0</td>\n",
       "      <td>0.00</td>\n",
       "      <td>object</td>\n",
       "    </tr>\n",
       "    <tr>\n",
       "      <th>nombre</th>\n",
       "      <td>0</td>\n",
       "      <td>0.00</td>\n",
       "      <td>object</td>\n",
       "    </tr>\n",
       "    <tr>\n",
       "      <th>apellido</th>\n",
       "      <td>0</td>\n",
       "      <td>0.00</td>\n",
       "      <td>object</td>\n",
       "    </tr>\n",
       "    <tr>\n",
       "      <th>mail</th>\n",
       "      <td>0</td>\n",
       "      <td>0.00</td>\n",
       "      <td>object</td>\n",
       "    </tr>\n",
       "    <tr>\n",
       "      <th>competencia</th>\n",
       "      <td>0</td>\n",
       "      <td>0.00</td>\n",
       "      <td>bool</td>\n",
       "    </tr>\n",
       "    <tr>\n",
       "      <th>fecha_reserva</th>\n",
       "      <td>5172</td>\n",
       "      <td>34.48</td>\n",
       "      <td>datetime64[ns]</td>\n",
       "    </tr>\n",
       "    <tr>\n",
       "      <th>inicio_estancia</th>\n",
       "      <td>75</td>\n",
       "      <td>0.50</td>\n",
       "      <td>datetime64[ns]</td>\n",
       "    </tr>\n",
       "    <tr>\n",
       "      <th>final_estancia</th>\n",
       "      <td>75</td>\n",
       "      <td>0.50</td>\n",
       "      <td>datetime64[ns]</td>\n",
       "    </tr>\n",
       "    <tr>\n",
       "      <th>id_hotel</th>\n",
       "      <td>0</td>\n",
       "      <td>0.00</td>\n",
       "      <td>int64</td>\n",
       "    </tr>\n",
       "    <tr>\n",
       "      <th>precio_noche</th>\n",
       "      <td>5224</td>\n",
       "      <td>34.83</td>\n",
       "      <td>float64</td>\n",
       "    </tr>\n",
       "    <tr>\n",
       "      <th>nombre_hotel</th>\n",
       "      <td>5172</td>\n",
       "      <td>34.48</td>\n",
       "      <td>object</td>\n",
       "    </tr>\n",
       "    <tr>\n",
       "      <th>estrellas</th>\n",
       "      <td>5172</td>\n",
       "      <td>34.48</td>\n",
       "      <td>Int64</td>\n",
       "    </tr>\n",
       "    <tr>\n",
       "      <th>ciudad</th>\n",
       "      <td>5172</td>\n",
       "      <td>34.48</td>\n",
       "      <td>object</td>\n",
       "    </tr>\n",
       "  </tbody>\n",
       "</table>\n",
       "</div>"
      ],
      "text/plain": [
       "                 Numero_nulos  Porcentaje_nulos       Tipo_dato\n",
       "id_reserva                  0              0.00          object\n",
       "id_cliente                  0              0.00          object\n",
       "nombre                      0              0.00          object\n",
       "apellido                    0              0.00          object\n",
       "mail                        0              0.00          object\n",
       "competencia                 0              0.00            bool\n",
       "fecha_reserva            5172             34.48  datetime64[ns]\n",
       "inicio_estancia            75              0.50  datetime64[ns]\n",
       "final_estancia             75              0.50  datetime64[ns]\n",
       "id_hotel                    0              0.00           int64\n",
       "precio_noche             5224             34.83         float64\n",
       "nombre_hotel             5172             34.48          object\n",
       "estrellas                5172             34.48           Int64\n",
       "ciudad                   5172             34.48          object"
      ]
     },
     "execution_count": 502,
     "metadata": {},
     "output_type": "execute_result"
    }
   ],
   "source": [
    "# llama a la funcion reporte aplicandola al dataframe \n",
    "info_reporte(df)"
   ]
  },
  {
   "cell_type": "code",
   "execution_count": 503,
   "metadata": {},
   "outputs": [
    {
     "data": {
      "text/plain": [
       "5172"
      ]
     },
     "execution_count": 503,
     "metadata": {},
     "output_type": "execute_result"
    }
   ],
   "source": [
    "# recuento de hoteles de competencia \n",
    "df[df[\"competencia\"] == True].shape[0]"
   ]
  },
  {
   "cell_type": "markdown",
   "metadata": {},
   "source": [
    "Observamos como ahora ya si nos está sacando el recuento y el porcentaje de nulos de todas las columnas. De primeras ya es curioso que las columnas fecha_reserva, nombre_hotel, estrellas y ciudad tengan el mismo número de nulos, por lo de que parece que tienen relación con los hoteles de competencia. Y, efectivamente, coincide con el número de reservas que provienen de hoteles de la competencia (5172). Por lo tanto, parecen columnas de las cuales se van a extraer los datos a través de web scraping."
   ]
  },
  {
   "cell_type": "markdown",
   "metadata": {},
   "source": [
    "DUDA MARTES: para la ciudad hace falta hacer el web scraping? si siempre es Madrid \n",
    "\n",
    "DUDA MARTES: y el dato de fecha de reserva como se saca? de donde y tal?"
   ]
  },
  {
   "cell_type": "code",
   "execution_count": 504,
   "metadata": {},
   "outputs": [
    {
     "data": {
      "text/plain": [
       "inicio_estancia    1\n",
       "final_estancia     1\n",
       "dtype: int64"
      ]
     },
     "execution_count": 504,
     "metadata": {},
     "output_type": "execute_result"
    }
   ],
   "source": [
    "# saca el numero de valores unicos de las columnas inicio_estancia y final_estancia\n",
    "df[[\"inicio_estancia\", \"final_estancia\"]].nunique()"
   ]
  },
  {
   "cell_type": "markdown",
   "metadata": {},
   "source": [
    "Por otro lado, en cuanto a las columnas de inicio_estancia y final_estancia, del primer vistazo de los datos, también he podido observar que por lo que parece, ambas disponen de un único valor, y además, lo he comprobado, y es así. Es decir, para todas las reservas, la fecha de inicio de la estancia es la misma, concretamente el 1 de marzo de 2025, y para todas las reservas la fecha de fin de estancia también es la misma, concretamente el 3 de marzo de 2025, es decir, es como si todas las estancias únicamente durasen un día y además todas el mismo día. Esto no tiene sentido y aquí está ocurriendo algo (error de recogida en los datos, todavía no se ha comenzado la recogida de datos de estas dos columnas correctamente etc.)."
   ]
  },
  {
   "cell_type": "markdown",
   "metadata": {},
   "source": [
    "DUDA MARTES: En este caso, se podrían tomar dos decisiones: eliminar las columnas de la base de datos, o si se quieren mantener, estos nulos que además son un porcentaje muy ínfimo (0,5% en cada columna), se podrían rellenar con la misma fecha, pues esta claro que correctamente (al menos por ahora) no se están recogiendo estas dos fechas."
   ]
  },
  {
   "cell_type": "markdown",
   "metadata": {},
   "source": [
    "Por último, la última columna que tiene nulos es el precio_noche. Hay nulos en esta columna para 52 reservas de hoteles propios, y el resto de nulos corresponden a todos los hoteles de la competencia, es decir, un dato igualmente a scrapear en el caso de los hoteles de la competencia. En el caso de los hoteles propios, hay que valorar como tratar estos 52 registros nulos."
   ]
  },
  {
   "cell_type": "code",
   "execution_count": 524,
   "metadata": {},
   "outputs": [
    {
     "name": "stdout",
     "output_type": "stream",
     "text": [
      "52\n",
      "5172\n"
     ]
    }
   ],
   "source": [
    "# saca el numero de reservas correspondientes con hoteles propios y con precio_noche nulo\n",
    "numero_reservas = df[(df[\"competencia\"] == False) & (df[\"precio_noche\"].isna())].shape[0]\n",
    "print(numero_reservas)\n",
    "numero_hoteles_competencia = df[df[\"precio_noche\"].isna()].shape[0] - numero_reservas\n",
    "print(numero_hoteles_competencia)"
   ]
  },
  {
   "cell_type": "code",
   "execution_count": 533,
   "metadata": {},
   "outputs": [
    {
     "data": {
      "text/plain": [
       "nombre_hotel\n",
       "Hotel Sol y Luna          5\n",
       "Hotel Torre Dorada        5\n",
       "Hotel Camino del Sol      4\n",
       "Hotel Mirador Real        4\n",
       "Hotel Las Estrellas       4\n",
       "Hotel Monte Verde         4\n",
       "Hotel Puerta del Cielo    3\n",
       "Hotel Encanto Real        3\n",
       "Palacio del Sol           3\n",
       "Gran Hotel Madrid         3\n",
       "Hotel Brisas del Mar      2\n",
       "Hotel Los Almendros       2\n",
       "Hotel Vista Alegre        2\n",
       "Hotel Rincón Sereno       2\n",
       "Hotel Costa Azul          2\n",
       "Hotel Luz de Madrid       1\n",
       "Hotel Jardines del Rey    1\n",
       "Hotel Palacio Imperial    1\n",
       "Hotel Maravilla Real      1\n",
       "Name: count, dtype: int64"
      ]
     },
     "execution_count": 533,
     "metadata": {},
     "output_type": "execute_result"
    }
   ],
   "source": [
    "# saca los hoteles y el numero de registros por cada hotel donde precio_noche es nulo\n",
    "df_nulos_precio = df[(df[\"competencia\"] == False) & (df[\"precio_noche\"].isna())]\n",
    "df_nulos_precio[\"nombre_hotel\"].value_counts()"
   ]
  },
  {
   "cell_type": "code",
   "execution_count": null,
   "metadata": {},
   "outputs": [
    {
     "data": {
      "text/html": [
       "<div>\n",
       "<style scoped>\n",
       "    .dataframe tbody tr th:only-of-type {\n",
       "        vertical-align: middle;\n",
       "    }\n",
       "\n",
       "    .dataframe tbody tr th {\n",
       "        vertical-align: top;\n",
       "    }\n",
       "\n",
       "    .dataframe thead th {\n",
       "        text-align: right;\n",
       "    }\n",
       "</style>\n",
       "<table border=\"1\" class=\"dataframe\">\n",
       "  <thead>\n",
       "    <tr style=\"text-align: right;\">\n",
       "      <th></th>\n",
       "      <th>id_reserva</th>\n",
       "      <th>id_cliente</th>\n",
       "      <th>nombre</th>\n",
       "      <th>apellido</th>\n",
       "      <th>mail</th>\n",
       "      <th>competencia</th>\n",
       "      <th>fecha_reserva</th>\n",
       "      <th>inicio_estancia</th>\n",
       "      <th>final_estancia</th>\n",
       "      <th>id_hotel</th>\n",
       "      <th>precio_noche</th>\n",
       "      <th>nombre_hotel</th>\n",
       "      <th>estrellas</th>\n",
       "      <th>ciudad</th>\n",
       "    </tr>\n",
       "  </thead>\n",
       "  <tbody>\n",
       "    <tr>\n",
       "      <th>9586</th>\n",
       "      <td>7ef26298-3b09-41b8-b02e-40560c3218a7</td>\n",
       "      <td>95ee9397-29cb-4529-a5d3-428ea61ca453</td>\n",
       "      <td>Gonzalo</td>\n",
       "      <td>Raya</td>\n",
       "      <td>gonzalo.raya@example.com</td>\n",
       "      <td>False</td>\n",
       "      <td>2025-02-08</td>\n",
       "      <td>2025-03-01</td>\n",
       "      <td>2025-03-02</td>\n",
       "      <td>36</td>\n",
       "      <td>187.65</td>\n",
       "      <td>Hotel Sol y Luna</td>\n",
       "      <td>4</td>\n",
       "      <td>Madrid</td>\n",
       "    </tr>\n",
       "    <tr>\n",
       "      <th>11875</th>\n",
       "      <td>c2d02117-5d7e-4939-a84f-2e8387c12706</td>\n",
       "      <td>6917cf8b-c9cf-4242-8e07-bc22cfd70966</td>\n",
       "      <td>Inés</td>\n",
       "      <td>Sala</td>\n",
       "      <td>inés.sala@example.com</td>\n",
       "      <td>False</td>\n",
       "      <td>2025-02-04</td>\n",
       "      <td>2025-03-01</td>\n",
       "      <td>2025-03-02</td>\n",
       "      <td>33</td>\n",
       "      <td>150.65</td>\n",
       "      <td>Hotel Sol y Luna</td>\n",
       "      <td>3</td>\n",
       "      <td>Madrid</td>\n",
       "    </tr>\n",
       "    <tr>\n",
       "      <th>1494</th>\n",
       "      <td>cfd15395-3c49-4aff-a2af-6b2d6e538814</td>\n",
       "      <td>0232fdc8-d44f-4387-b596-0800f4e8e4d7</td>\n",
       "      <td>Palmira</td>\n",
       "      <td>Agullo</td>\n",
       "      <td>palmira.agullo@example.com</td>\n",
       "      <td>False</td>\n",
       "      <td>2025-02-02</td>\n",
       "      <td>2025-03-01</td>\n",
       "      <td>2025-03-02</td>\n",
       "      <td>13</td>\n",
       "      <td>195.55</td>\n",
       "      <td>Hotel Sol y Luna</td>\n",
       "      <td>2</td>\n",
       "      <td>Madrid</td>\n",
       "    </tr>\n",
       "    <tr>\n",
       "      <th>10262</th>\n",
       "      <td>6d51ad8b-bfc2-4c6c-98e5-c0fcf7373dd8</td>\n",
       "      <td>3b6be0cc-53ae-4138-9466-5b5593a2612f</td>\n",
       "      <td>Haroldo</td>\n",
       "      <td>Marín</td>\n",
       "      <td>haroldo.marín@example.com</td>\n",
       "      <td>False</td>\n",
       "      <td>2025-02-07</td>\n",
       "      <td>2025-03-01</td>\n",
       "      <td>2025-03-02</td>\n",
       "      <td>49</td>\n",
       "      <td>155.23</td>\n",
       "      <td>Hotel Sol y Luna</td>\n",
       "      <td>2</td>\n",
       "      <td>Madrid</td>\n",
       "    </tr>\n",
       "    <tr>\n",
       "      <th>7488</th>\n",
       "      <td>df05e77c-0e1e-4701-a53e-369ef556b48d</td>\n",
       "      <td>00194c55-9178-4224-b94f-d750e101af73</td>\n",
       "      <td>Alexandra</td>\n",
       "      <td>Porcel</td>\n",
       "      <td>alexandra.porcel@example.com</td>\n",
       "      <td>False</td>\n",
       "      <td>2025-02-04</td>\n",
       "      <td>2025-03-01</td>\n",
       "      <td>2025-03-02</td>\n",
       "      <td>13</td>\n",
       "      <td>190.69</td>\n",
       "      <td>Hotel Sol y Luna</td>\n",
       "      <td>1</td>\n",
       "      <td>Madrid</td>\n",
       "    </tr>\n",
       "  </tbody>\n",
       "</table>\n",
       "</div>"
      ],
      "text/plain": [
       "                                 id_reserva  \\\n",
       "9586   7ef26298-3b09-41b8-b02e-40560c3218a7   \n",
       "11875  c2d02117-5d7e-4939-a84f-2e8387c12706   \n",
       "1494   cfd15395-3c49-4aff-a2af-6b2d6e538814   \n",
       "10262  6d51ad8b-bfc2-4c6c-98e5-c0fcf7373dd8   \n",
       "7488   df05e77c-0e1e-4701-a53e-369ef556b48d   \n",
       "\n",
       "                                 id_cliente     nombre apellido  \\\n",
       "9586   95ee9397-29cb-4529-a5d3-428ea61ca453    Gonzalo     Raya   \n",
       "11875  6917cf8b-c9cf-4242-8e07-bc22cfd70966       Inés     Sala   \n",
       "1494   0232fdc8-d44f-4387-b596-0800f4e8e4d7    Palmira   Agullo   \n",
       "10262  3b6be0cc-53ae-4138-9466-5b5593a2612f    Haroldo    Marín   \n",
       "7488   00194c55-9178-4224-b94f-d750e101af73  Alexandra   Porcel   \n",
       "\n",
       "                               mail  competencia fecha_reserva  \\\n",
       "9586       gonzalo.raya@example.com        False    2025-02-08   \n",
       "11875         inés.sala@example.com        False    2025-02-04   \n",
       "1494     palmira.agullo@example.com        False    2025-02-02   \n",
       "10262     haroldo.marín@example.com        False    2025-02-07   \n",
       "7488   alexandra.porcel@example.com        False    2025-02-04   \n",
       "\n",
       "      inicio_estancia final_estancia  id_hotel  precio_noche  \\\n",
       "9586       2025-03-01     2025-03-02        36        187.65   \n",
       "11875      2025-03-01     2025-03-02        33        150.65   \n",
       "1494       2025-03-01     2025-03-02        13        195.55   \n",
       "10262      2025-03-01     2025-03-02        49        155.23   \n",
       "7488       2025-03-01     2025-03-02        13        190.69   \n",
       "\n",
       "           nombre_hotel  estrellas  ciudad  \n",
       "9586   Hotel Sol y Luna          4  Madrid  \n",
       "11875  Hotel Sol y Luna          3  Madrid  \n",
       "1494   Hotel Sol y Luna          2  Madrid  \n",
       "10262  Hotel Sol y Luna          2  Madrid  \n",
       "7488   Hotel Sol y Luna          1  Madrid  "
      ]
     },
     "execution_count": 531,
     "metadata": {},
     "output_type": "execute_result"
    }
   ],
   "source": [
    "# filtra por el hotel \"Hotel Sol y Luna\"\n",
    "df[df[\"nombre_hotel\"] == \"Hotel Sol y Luna\"].sample(5)"
   ]
  },
  {
   "cell_type": "markdown",
   "metadata": {},
   "source": [
    "Como se puede observar, para por ejemplo el Hotel Sol y Luna el precio_noche es diferente para cada reserva. Lo que se puede valorar es sustituir los pocos nulos que hay por cada hotel por la media o la mediana (en función de los outliers) de la columna precio_noche para cada hotel. "
   ]
  },
  {
   "cell_type": "markdown",
   "metadata": {},
   "source": [
    "HACER ANALISIS DE OUTLIERS PARA DECIDIR SI RELLENAR NULOS CON MEDIA O MEDIANA"
   ]
  },
  {
   "cell_type": "markdown",
   "metadata": {},
   "source": [
    "DUDA MARTES: sacando esta informacion me he dado cuenta de que hay algo raro porque el Hotel Sol y Luna en Madrid que deberia ser el mismo claro, tiene para cada reserva un id_hotel diferente cuando deberia ser el mismo y también estrellas diferentes. ??????"
   ]
  }
 ],
 "metadata": {
  "kernelspec": {
   "display_name": "Python 3",
   "language": "python",
   "name": "python3"
  },
  "language_info": {
   "codemirror_mode": {
    "name": "ipython",
    "version": 3
   },
   "file_extension": ".py",
   "mimetype": "text/x-python",
   "name": "python",
   "nbconvert_exporter": "python",
   "pygments_lexer": "ipython3",
   "version": "3.13.0"
  }
 },
 "nbformat": 4,
 "nbformat_minor": 2
}
